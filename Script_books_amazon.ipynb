{
 "cells": [
  {
   "cell_type": "code",
   "execution_count": 1,
   "id": "35d505f7",
   "metadata": {},
   "outputs": [
    {
     "name": "stdout",
     "output_type": "stream",
     "text": [
      "Current working directory: C:\\Users\\ibrah\\Desktop\\Koç Uni\\2. Spring Dönemi, Dersler\\CSSM 530\\python\n",
      "os.getcwd() returns an object of type: <class 'str'>\n"
     ]
    }
   ],
   "source": [
    "# Import the os module\n",
    "import os\n",
    "\n",
    "# Get the current working directory\n",
    "cwd = os.getcwd()\n",
    "\n",
    "# Print the current working directory\n",
    "print(\"Current working directory: {0}\".format(cwd))\n",
    "\n",
    "# Print the type of the returned object\n",
    "print(\"os.getcwd() returns an object of type: {0}\".format(type(cwd)))\n"
   ]
  },
  {
   "cell_type": "code",
   "execution_count": 2,
   "id": "e964c4b4",
   "metadata": {},
   "outputs": [
    {
     "data": {
      "text/plain": [
       "'C:\\\\Users\\\\ibrah\\\\Desktop\\\\Koç Uni\\\\2. Spring Dönemi, Dersler\\\\CSSM 530\\\\python'"
      ]
     },
     "execution_count": 2,
     "metadata": {},
     "output_type": "execute_result"
    }
   ],
   "source": [
    "os.getcwd()"
   ]
  },
  {
   "cell_type": "code",
   "execution_count": 3,
   "id": "1e27f32c",
   "metadata": {},
   "outputs": [
    {
     "name": "stderr",
     "output_type": "stream",
     "text": [
      "C:\\Anaconda3\\lib\\site-packages\\IPython\\core\\interactiveshell.py:3444: DtypeWarning: Columns (1,4,7,8,9) have mixed types.Specify dtype option on import or set low_memory=False.\n",
      "  exec(code_obj, self.user_global_ns, self.user_ns)\n"
     ]
    },
    {
     "name": "stdout",
     "output_type": "stream",
     "text": [
      "            0            1               2           3               4   \\\n",
      "0  marketplace  customer_id       review_id  product_id  product_parent   \n",
      "1           US     12076615   RQ58W7SMO911M  0385730586       122662979   \n",
      "2           US     12703090    RF6IUKMGL8SF  0811828964        56191234   \n",
      "3           US     12257412  R1DOSHH6AI622S  1844161560       253182049   \n",
      "4           US     50732546   RATOTLA3OF70O  0373836635       348672532   \n",
      "\n",
      "                                              5                 6   \\\n",
      "0                                  product_title  product_category   \n",
      "1     Sisterhood of the Traveling Pants (Book 1)             Books   \n",
      "2  The Bad Girl's Guide to Getting What You Want             Books   \n",
      "3         Eisenhorn (A Warhammer 40,000 Omnibus)             Books   \n",
      "4                Colby Conspiracy (Colby Agency)             Books   \n",
      "\n",
      "            7              8            9     10                 11  \\\n",
      "0  star_rating  helpful_votes  total_votes  vine  verified_purchase   \n",
      "1            4              2            3     N                  N   \n",
      "2            3              5            5     N                  N   \n",
      "3            4              1           22     N                  N   \n",
      "4            5              2            2     N                  N   \n",
      "\n",
      "                                      12  \\\n",
      "0                        review_headline   \n",
      "1  this book was a great learning novel!   \n",
      "2                              Fun Fluff   \n",
      "3                    this isn't a review   \n",
      "4              fine author on her A-game   \n",
      "\n",
      "                                                  13           14  \n",
      "0                                        review_body  review_date  \n",
      "1  this boook was a great one that you could lear...   2005-10-14  \n",
      "2  If you are looking for something to stimulate ...   2005-10-14  \n",
      "3  never read it-a young relative idicated he lik...   2005-10-14  \n",
      "4  Though she is honored to be Chicago Woman of t...   2005-10-14  \n"
     ]
    }
   ],
   "source": [
    "import pandas as pd\n",
    "import numpy as np\n",
    "from collections import Counter\n",
    "\n",
    "\n",
    "df = pd.read_csv('amazon_reviews_us_Books_v1_02.tsv', sep='\\t', header=None, on_bad_lines='skip')\n",
    "\n",
    "print(df.head())\n"
   ]
  },
  {
   "cell_type": "code",
   "execution_count": null,
   "id": "d69a7457",
   "metadata": {},
   "outputs": [],
   "source": []
  },
  {
   "cell_type": "code",
   "execution_count": 4,
   "id": "ad12977c",
   "metadata": {},
   "outputs": [
    {
     "name": "stdout",
     "output_type": "stream",
     "text": [
      "<class 'pandas.core.frame.DataFrame'>\n",
      "RangeIndex: 3105371 entries, 0 to 3105370\n",
      "Data columns (total 15 columns):\n",
      " #   Column  Dtype \n",
      "---  ------  ----- \n",
      " 0   0       object\n",
      " 1   1       object\n",
      " 2   2       object\n",
      " 3   3       object\n",
      " 4   4       object\n",
      " 5   5       object\n",
      " 6   6       object\n",
      " 7   7       object\n",
      " 8   8       object\n",
      " 9   9       object\n",
      " 10  10      object\n",
      " 11  11      object\n",
      " 12  12      object\n",
      " 13  13      object\n",
      " 14  14      object\n",
      "dtypes: object(15)\n",
      "memory usage: 355.4+ MB\n"
     ]
    },
    {
     "ename": "KeyError",
     "evalue": "'review_body'",
     "output_type": "error",
     "traceback": [
      "\u001b[1;31m---------------------------------------------------------------------------\u001b[0m",
      "\u001b[1;31mKeyError\u001b[0m                                  Traceback (most recent call last)",
      "\u001b[1;32mC:\\Anaconda3\\lib\\site-packages\\pandas\\core\\indexes\\base.py\u001b[0m in \u001b[0;36mget_loc\u001b[1;34m(self, key, method, tolerance)\u001b[0m\n\u001b[0;32m   3360\u001b[0m             \u001b[1;32mtry\u001b[0m\u001b[1;33m:\u001b[0m\u001b[1;33m\u001b[0m\u001b[1;33m\u001b[0m\u001b[0m\n\u001b[1;32m-> 3361\u001b[1;33m                 \u001b[1;32mreturn\u001b[0m \u001b[0mself\u001b[0m\u001b[1;33m.\u001b[0m\u001b[0m_engine\u001b[0m\u001b[1;33m.\u001b[0m\u001b[0mget_loc\u001b[0m\u001b[1;33m(\u001b[0m\u001b[0mcasted_key\u001b[0m\u001b[1;33m)\u001b[0m\u001b[1;33m\u001b[0m\u001b[1;33m\u001b[0m\u001b[0m\n\u001b[0m\u001b[0;32m   3362\u001b[0m             \u001b[1;32mexcept\u001b[0m \u001b[0mKeyError\u001b[0m \u001b[1;32mas\u001b[0m \u001b[0merr\u001b[0m\u001b[1;33m:\u001b[0m\u001b[1;33m\u001b[0m\u001b[1;33m\u001b[0m\u001b[0m\n",
      "\u001b[1;32mC:\\Anaconda3\\lib\\site-packages\\pandas\\_libs\\index.pyx\u001b[0m in \u001b[0;36mpandas._libs.index.IndexEngine.get_loc\u001b[1;34m()\u001b[0m\n",
      "\u001b[1;32mpandas\\_libs\\index_class_helper.pxi\u001b[0m in \u001b[0;36mpandas._libs.index.Int64Engine._check_type\u001b[1;34m()\u001b[0m\n",
      "\u001b[1;32mpandas\\_libs\\index_class_helper.pxi\u001b[0m in \u001b[0;36mpandas._libs.index.Int64Engine._check_type\u001b[1;34m()\u001b[0m\n",
      "\u001b[1;31mKeyError\u001b[0m: 'review_body'",
      "\nThe above exception was the direct cause of the following exception:\n",
      "\u001b[1;31mKeyError\u001b[0m                                  Traceback (most recent call last)",
      "\u001b[1;32m~\\AppData\\Local\\Temp/ipykernel_17720/3143282358.py\u001b[0m in \u001b[0;36m<module>\u001b[1;34m\u001b[0m\n\u001b[0;32m      6\u001b[0m \u001b[0mdf\u001b[0m\u001b[1;33m.\u001b[0m\u001b[0misnull\u001b[0m\u001b[1;33m(\u001b[0m\u001b[1;33m)\u001b[0m\u001b[1;33m.\u001b[0m\u001b[0msum\u001b[0m\u001b[1;33m(\u001b[0m\u001b[1;33m)\u001b[0m\u001b[1;33m.\u001b[0m\u001b[0msum\u001b[0m\u001b[1;33m(\u001b[0m\u001b[1;33m)\u001b[0m\u001b[1;33m\u001b[0m\u001b[1;33m\u001b[0m\u001b[0m\n\u001b[0;32m      7\u001b[0m \u001b[1;33m\u001b[0m\u001b[0m\n\u001b[1;32m----> 8\u001b[1;33m \u001b[0mdf\u001b[0m\u001b[1;33m[\u001b[0m\u001b[1;34m'review_body'\u001b[0m\u001b[1;33m]\u001b[0m\u001b[1;33m.\u001b[0m\u001b[0misnull\u001b[0m\u001b[1;33m(\u001b[0m\u001b[1;33m)\u001b[0m\u001b[1;33m.\u001b[0m\u001b[0msum\u001b[0m\u001b[1;33m(\u001b[0m\u001b[1;33m)\u001b[0m\u001b[1;33m\u001b[0m\u001b[1;33m\u001b[0m\u001b[0m\n\u001b[0m",
      "\u001b[1;32mC:\\Anaconda3\\lib\\site-packages\\pandas\\core\\frame.py\u001b[0m in \u001b[0;36m__getitem__\u001b[1;34m(self, key)\u001b[0m\n\u001b[0;32m   3456\u001b[0m             \u001b[1;32mif\u001b[0m \u001b[0mself\u001b[0m\u001b[1;33m.\u001b[0m\u001b[0mcolumns\u001b[0m\u001b[1;33m.\u001b[0m\u001b[0mnlevels\u001b[0m \u001b[1;33m>\u001b[0m \u001b[1;36m1\u001b[0m\u001b[1;33m:\u001b[0m\u001b[1;33m\u001b[0m\u001b[1;33m\u001b[0m\u001b[0m\n\u001b[0;32m   3457\u001b[0m                 \u001b[1;32mreturn\u001b[0m \u001b[0mself\u001b[0m\u001b[1;33m.\u001b[0m\u001b[0m_getitem_multilevel\u001b[0m\u001b[1;33m(\u001b[0m\u001b[0mkey\u001b[0m\u001b[1;33m)\u001b[0m\u001b[1;33m\u001b[0m\u001b[1;33m\u001b[0m\u001b[0m\n\u001b[1;32m-> 3458\u001b[1;33m             \u001b[0mindexer\u001b[0m \u001b[1;33m=\u001b[0m \u001b[0mself\u001b[0m\u001b[1;33m.\u001b[0m\u001b[0mcolumns\u001b[0m\u001b[1;33m.\u001b[0m\u001b[0mget_loc\u001b[0m\u001b[1;33m(\u001b[0m\u001b[0mkey\u001b[0m\u001b[1;33m)\u001b[0m\u001b[1;33m\u001b[0m\u001b[1;33m\u001b[0m\u001b[0m\n\u001b[0m\u001b[0;32m   3459\u001b[0m             \u001b[1;32mif\u001b[0m \u001b[0mis_integer\u001b[0m\u001b[1;33m(\u001b[0m\u001b[0mindexer\u001b[0m\u001b[1;33m)\u001b[0m\u001b[1;33m:\u001b[0m\u001b[1;33m\u001b[0m\u001b[1;33m\u001b[0m\u001b[0m\n\u001b[0;32m   3460\u001b[0m                 \u001b[0mindexer\u001b[0m \u001b[1;33m=\u001b[0m \u001b[1;33m[\u001b[0m\u001b[0mindexer\u001b[0m\u001b[1;33m]\u001b[0m\u001b[1;33m\u001b[0m\u001b[1;33m\u001b[0m\u001b[0m\n",
      "\u001b[1;32mC:\\Anaconda3\\lib\\site-packages\\pandas\\core\\indexes\\base.py\u001b[0m in \u001b[0;36mget_loc\u001b[1;34m(self, key, method, tolerance)\u001b[0m\n\u001b[0;32m   3361\u001b[0m                 \u001b[1;32mreturn\u001b[0m \u001b[0mself\u001b[0m\u001b[1;33m.\u001b[0m\u001b[0m_engine\u001b[0m\u001b[1;33m.\u001b[0m\u001b[0mget_loc\u001b[0m\u001b[1;33m(\u001b[0m\u001b[0mcasted_key\u001b[0m\u001b[1;33m)\u001b[0m\u001b[1;33m\u001b[0m\u001b[1;33m\u001b[0m\u001b[0m\n\u001b[0;32m   3362\u001b[0m             \u001b[1;32mexcept\u001b[0m \u001b[0mKeyError\u001b[0m \u001b[1;32mas\u001b[0m \u001b[0merr\u001b[0m\u001b[1;33m:\u001b[0m\u001b[1;33m\u001b[0m\u001b[1;33m\u001b[0m\u001b[0m\n\u001b[1;32m-> 3363\u001b[1;33m                 \u001b[1;32mraise\u001b[0m \u001b[0mKeyError\u001b[0m\u001b[1;33m(\u001b[0m\u001b[0mkey\u001b[0m\u001b[1;33m)\u001b[0m \u001b[1;32mfrom\u001b[0m \u001b[0merr\u001b[0m\u001b[1;33m\u001b[0m\u001b[1;33m\u001b[0m\u001b[0m\n\u001b[0m\u001b[0;32m   3364\u001b[0m \u001b[1;33m\u001b[0m\u001b[0m\n\u001b[0;32m   3365\u001b[0m         \u001b[1;32mif\u001b[0m \u001b[0mis_scalar\u001b[0m\u001b[1;33m(\u001b[0m\u001b[0mkey\u001b[0m\u001b[1;33m)\u001b[0m \u001b[1;32mand\u001b[0m \u001b[0misna\u001b[0m\u001b[1;33m(\u001b[0m\u001b[0mkey\u001b[0m\u001b[1;33m)\u001b[0m \u001b[1;32mand\u001b[0m \u001b[1;32mnot\u001b[0m \u001b[0mself\u001b[0m\u001b[1;33m.\u001b[0m\u001b[0mhasnans\u001b[0m\u001b[1;33m:\u001b[0m\u001b[1;33m\u001b[0m\u001b[1;33m\u001b[0m\u001b[0m\n",
      "\u001b[1;31mKeyError\u001b[0m: 'review_body'"
     ]
    }
   ],
   "source": [
    "df.shape\n",
    "df.info()\n",
    "len(df.columns)\n",
    "\n",
    "\n",
    "df.isnull().sum().sum()\n",
    "\n",
    "df['review_body'].isnull().sum()\n"
   ]
  },
  {
   "cell_type": "code",
   "execution_count": 5,
   "id": "d5e9a8b4",
   "metadata": {},
   "outputs": [
    {
     "data": {
      "text/plain": [
       "199"
      ]
     },
     "execution_count": 5,
     "metadata": {},
     "output_type": "execute_result"
    }
   ],
   "source": [
    "import numpy as np\n",
    "\n",
    "df.isnull().sum().sum()"
   ]
  },
  {
   "cell_type": "code",
   "execution_count": 7,
   "id": "261532bb",
   "metadata": {},
   "outputs": [
    {
     "name": "stdout",
     "output_type": "stream",
     "text": [
      "   marketplace  customer_id       review_id  product_id  product_parent  \\\n",
      "0  marketplace  customer_id       review_id  product_id  product_parent   \n",
      "1           US     12076615   RQ58W7SMO911M  0385730586       122662979   \n",
      "2           US     12703090    RF6IUKMGL8SF  0811828964        56191234   \n",
      "3           US     12257412  R1DOSHH6AI622S  1844161560       253182049   \n",
      "4           US     50732546   RATOTLA3OF70O  0373836635       348672532   \n",
      "\n",
      "                                   product_title  product_category  \\\n",
      "0                                  product_title  product_category   \n",
      "1     Sisterhood of the Traveling Pants (Book 1)             Books   \n",
      "2  The Bad Girl's Guide to Getting What You Want             Books   \n",
      "3         Eisenhorn (A Warhammer 40,000 Omnibus)             Books   \n",
      "4                Colby Conspiracy (Colby Agency)             Books   \n",
      "\n",
      "   star_rating  helpful_votes  total_votes  vine  verified_purchase  \\\n",
      "0  star_rating  helpful_votes  total_votes  vine  verified_purchase   \n",
      "1            4              2            3     N                  N   \n",
      "2            3              5            5     N                  N   \n",
      "3            4              1           22     N                  N   \n",
      "4            5              2            2     N                  N   \n",
      "\n",
      "                         review_headline  \\\n",
      "0                        review_headline   \n",
      "1  this book was a great learning novel!   \n",
      "2                              Fun Fluff   \n",
      "3                    this isn't a review   \n",
      "4              fine author on her A-game   \n",
      "\n",
      "                                         review_body  review_date  \n",
      "0                                        review_body  review_date  \n",
      "1  this boook was a great one that you could lear...   2005-10-14  \n",
      "2  If you are looking for something to stimulate ...   2005-10-14  \n",
      "3  never read it-a young relative idicated he lik...   2005-10-14  \n",
      "4  Though she is honored to be Chicago Woman of t...   2005-10-14  \n"
     ]
    }
   ],
   "source": [
    "df.columns = ['marketplace', 'customer_id', 'review_id', 'product_id', 'product_parent', 'product_title', 'product_category', 'star_rating', \n",
    "            'helpful_votes', 'total_votes', 'vine', 'verified_purchase', 'review_headline', 'review_body', 'review_date']\n",
    "\n",
    "print(df.head())\n",
    "\n",
    "\n"
   ]
  },
  {
   "cell_type": "code",
   "execution_count": 8,
   "id": "9f01ecf8",
   "metadata": {},
   "outputs": [
    {
     "data": {
      "text/html": [
       "<div>\n",
       "<style scoped>\n",
       "    .dataframe tbody tr th:only-of-type {\n",
       "        vertical-align: middle;\n",
       "    }\n",
       "\n",
       "    .dataframe tbody tr th {\n",
       "        vertical-align: top;\n",
       "    }\n",
       "\n",
       "    .dataframe thead th {\n",
       "        text-align: right;\n",
       "    }\n",
       "</style>\n",
       "<table border=\"1\" class=\"dataframe\">\n",
       "  <thead>\n",
       "    <tr style=\"text-align: right;\">\n",
       "      <th></th>\n",
       "      <th>marketplace</th>\n",
       "      <th>customer_id</th>\n",
       "      <th>review_id</th>\n",
       "      <th>product_id</th>\n",
       "      <th>product_parent</th>\n",
       "      <th>product_title</th>\n",
       "      <th>product_category</th>\n",
       "      <th>star_rating</th>\n",
       "      <th>helpful_votes</th>\n",
       "      <th>total_votes</th>\n",
       "      <th>vine</th>\n",
       "      <th>verified_purchase</th>\n",
       "      <th>review_headline</th>\n",
       "      <th>review_body</th>\n",
       "      <th>review_date</th>\n",
       "    </tr>\n",
       "  </thead>\n",
       "  <tbody>\n",
       "    <tr>\n",
       "      <th>1</th>\n",
       "      <td>US</td>\n",
       "      <td>12076615</td>\n",
       "      <td>RQ58W7SMO911M</td>\n",
       "      <td>0385730586</td>\n",
       "      <td>122662979</td>\n",
       "      <td>Sisterhood of the Traveling Pants (Book 1)</td>\n",
       "      <td>Books</td>\n",
       "      <td>4</td>\n",
       "      <td>2</td>\n",
       "      <td>3</td>\n",
       "      <td>N</td>\n",
       "      <td>N</td>\n",
       "      <td>this book was a great learning novel!</td>\n",
       "      <td>this boook was a great one that you could lear...</td>\n",
       "      <td>2005-10-14</td>\n",
       "    </tr>\n",
       "    <tr>\n",
       "      <th>2</th>\n",
       "      <td>US</td>\n",
       "      <td>12703090</td>\n",
       "      <td>RF6IUKMGL8SF</td>\n",
       "      <td>0811828964</td>\n",
       "      <td>56191234</td>\n",
       "      <td>The Bad Girl's Guide to Getting What You Want</td>\n",
       "      <td>Books</td>\n",
       "      <td>3</td>\n",
       "      <td>5</td>\n",
       "      <td>5</td>\n",
       "      <td>N</td>\n",
       "      <td>N</td>\n",
       "      <td>Fun Fluff</td>\n",
       "      <td>If you are looking for something to stimulate ...</td>\n",
       "      <td>2005-10-14</td>\n",
       "    </tr>\n",
       "    <tr>\n",
       "      <th>3</th>\n",
       "      <td>US</td>\n",
       "      <td>12257412</td>\n",
       "      <td>R1DOSHH6AI622S</td>\n",
       "      <td>1844161560</td>\n",
       "      <td>253182049</td>\n",
       "      <td>Eisenhorn (A Warhammer 40,000 Omnibus)</td>\n",
       "      <td>Books</td>\n",
       "      <td>4</td>\n",
       "      <td>1</td>\n",
       "      <td>22</td>\n",
       "      <td>N</td>\n",
       "      <td>N</td>\n",
       "      <td>this isn't a review</td>\n",
       "      <td>never read it-a young relative idicated he lik...</td>\n",
       "      <td>2005-10-14</td>\n",
       "    </tr>\n",
       "    <tr>\n",
       "      <th>4</th>\n",
       "      <td>US</td>\n",
       "      <td>50732546</td>\n",
       "      <td>RATOTLA3OF70O</td>\n",
       "      <td>0373836635</td>\n",
       "      <td>348672532</td>\n",
       "      <td>Colby Conspiracy (Colby Agency)</td>\n",
       "      <td>Books</td>\n",
       "      <td>5</td>\n",
       "      <td>2</td>\n",
       "      <td>2</td>\n",
       "      <td>N</td>\n",
       "      <td>N</td>\n",
       "      <td>fine author on her A-game</td>\n",
       "      <td>Though she is honored to be Chicago Woman of t...</td>\n",
       "      <td>2005-10-14</td>\n",
       "    </tr>\n",
       "    <tr>\n",
       "      <th>5</th>\n",
       "      <td>US</td>\n",
       "      <td>51964897</td>\n",
       "      <td>R1TNWRKIVHVYOV</td>\n",
       "      <td>0262181533</td>\n",
       "      <td>598678717</td>\n",
       "      <td>The Psychology of Proof: Deductive Reasoning i...</td>\n",
       "      <td>Books</td>\n",
       "      <td>4</td>\n",
       "      <td>0</td>\n",
       "      <td>2</td>\n",
       "      <td>N</td>\n",
       "      <td>N</td>\n",
       "      <td>Execellent cursor examination</td>\n",
       "      <td>Review based on a cursory examination by Unive...</td>\n",
       "      <td>2005-10-14</td>\n",
       "    </tr>\n",
       "  </tbody>\n",
       "</table>\n",
       "</div>"
      ],
      "text/plain": [
       "  marketplace customer_id       review_id  product_id product_parent  \\\n",
       "1          US    12076615   RQ58W7SMO911M  0385730586      122662979   \n",
       "2          US    12703090    RF6IUKMGL8SF  0811828964       56191234   \n",
       "3          US    12257412  R1DOSHH6AI622S  1844161560      253182049   \n",
       "4          US    50732546   RATOTLA3OF70O  0373836635      348672532   \n",
       "5          US    51964897  R1TNWRKIVHVYOV  0262181533      598678717   \n",
       "\n",
       "                                       product_title product_category  \\\n",
       "1         Sisterhood of the Traveling Pants (Book 1)            Books   \n",
       "2      The Bad Girl's Guide to Getting What You Want            Books   \n",
       "3             Eisenhorn (A Warhammer 40,000 Omnibus)            Books   \n",
       "4                    Colby Conspiracy (Colby Agency)            Books   \n",
       "5  The Psychology of Proof: Deductive Reasoning i...            Books   \n",
       "\n",
       "  star_rating helpful_votes total_votes vine verified_purchase  \\\n",
       "1           4             2           3    N                 N   \n",
       "2           3             5           5    N                 N   \n",
       "3           4             1          22    N                 N   \n",
       "4           5             2           2    N                 N   \n",
       "5           4             0           2    N                 N   \n",
       "\n",
       "                         review_headline  \\\n",
       "1  this book was a great learning novel!   \n",
       "2                              Fun Fluff   \n",
       "3                    this isn't a review   \n",
       "4              fine author on her A-game   \n",
       "5          Execellent cursor examination   \n",
       "\n",
       "                                         review_body review_date  \n",
       "1  this boook was a great one that you could lear...  2005-10-14  \n",
       "2  If you are looking for something to stimulate ...  2005-10-14  \n",
       "3  never read it-a young relative idicated he lik...  2005-10-14  \n",
       "4  Though she is honored to be Chicago Woman of t...  2005-10-14  \n",
       "5  Review based on a cursory examination by Unive...  2005-10-14  "
      ]
     },
     "metadata": {},
     "output_type": "display_data"
    }
   ],
   "source": [
    "\n",
    "data = pd.DataFrame(df)\n",
    "\n",
    "# print(data.head())\n",
    "\n",
    "# type(data)\n",
    "\n",
    "# print(data)\n",
    "\n",
    "data = df.iloc[1:, :]\n",
    "\n",
    "# print(data)\n",
    "\n",
    "from IPython.display import display\n",
    "\n",
    "display(data.head())\n",
    "\n",
    "# df['review_body'].isnull().sum()\n"
   ]
  },
  {
   "cell_type": "code",
   "execution_count": 9,
   "id": "825c7c34",
   "metadata": {},
   "outputs": [],
   "source": [
    "import matplotlib.pyplot as plt"
   ]
  },
  {
   "cell_type": "code",
   "execution_count": 11,
   "id": "9b7489db",
   "metadata": {},
   "outputs": [
    {
     "data": {
      "text/plain": [
       "(array([ 59784., 214333., 323041., 347699., 323746., 283348., 233594.,\n",
       "        189516., 156500., 130523.]),\n",
       " array([   0.,  100.,  200.,  300.,  400.,  500.,  600.,  700.,  800.,\n",
       "         900., 1000.]),\n",
       " <BarContainer object of 10 artists>)"
      ]
     },
     "execution_count": 11,
     "metadata": {},
     "output_type": "execute_result"
    },
    {
     "data": {
      "image/png": "[encoded data removed]",
      "text/plain": [
       "<Figure size 432x288 with 1 Axes>"
      ]
     },
     "metadata": {
      "needs_background": "light"
     },
     "output_type": "display_data"
    }
   ],
   "source": [
    "def len_of_str(x):\n",
    "    if type(x) != float:\n",
    "        leng = len(x)\n",
    "    else:\n",
    "        leng = 0\n",
    "    return leng\n",
    "\n",
    "plt.hist(data['review_body'].apply(len_of_str), range=[0, 1000], facecolor='gray', align='mid')"
   ]
  },
  {
   "cell_type": "code",
   "execution_count": 12,
   "id": "a955a612",
   "metadata": {},
   "outputs": [
    {
     "data": {
      "text/plain": [
       "12983"
      ]
     },
     "execution_count": 12,
     "metadata": {},
     "output_type": "execute_result"
    }
   ],
   "source": [
    "sozluk = {'Psychology' : {'key_word' : ['psychology', 'psychological'], 'count' : 0}}\n",
    "sozluk2 = {'Psychology' : 0}\n",
    "\n",
    "sozluk['Psychology']\n",
    "def psy(x):\n",
    "    if 'psych' in x.lower():\n",
    "        a = 1\n",
    "    else:\n",
    "        a = 0\n",
    "    return a\n",
    "\n",
    "data['product_title'].apply(psy).sum()"
   ]
  },
  {
   "cell_type": "code",
   "execution_count": 13,
   "id": "e6f1f0df",
   "metadata": {},
   "outputs": [
    {
     "data": {
      "text/plain": [
       "455"
      ]
     },
     "execution_count": 13,
     "metadata": {},
     "output_type": "execute_result"
    }
   ],
   "source": [
    "\n",
    "list_of_titles = data['product_title'].to_list()\n",
    "\n",
    "# print('List of Names: ', list_of_titles)\n",
    "\n",
    "list_of_titles\n",
    "\n",
    "\n",
    "from collections import Counter\n",
    "# counts = Counter(list_of_titles)\n",
    "# print(counts)\n",
    "\n",
    "def soc(x):\n",
    "    if 'sociology' in x.lower():\n",
    "        a = 1\n",
    "    else: \n",
    "        a = 0\n",
    "    return a\n",
    "\n",
    "\n",
    "\n",
    "\n",
    "data['product_title'].apply(soc).sum()\n"
   ]
  },
  {
   "cell_type": "code",
   "execution_count": 12,
   "id": "4a3b8abd",
   "metadata": {},
   "outputs": [
    {
     "name": "stdout",
     "output_type": "stream",
     "text": [
      "[['The', 'Bad', 'Girl', \"'s\", 'Guide', 'to', 'Getting', 'What', 'You', 'Want'], ['Eisenhorn', '(', 'A', 'Warhammer', '40,000', 'Omnibus', ')'], ['Colby', 'Conspiracy', '(', 'Colby', 'Agency', ')'], ['The', 'Psychology', 'of', 'Proof', ':', 'Deductive', 'Reasoning', 'in', 'Human', 'Thinking'], ['The', 'Catcher', 'in', 'the', 'Rye'], ['Bait', 'and', 'Switch', ':', 'The', '(', 'Futile', ')', 'Pursuit', 'of', 'the', 'American', 'Dream'], ['Opening', 'Combination', 'Padlocks', ':', 'No', 'Tools', ',', 'No', 'Problem'], ['A', 'Little', 'History', 'of', 'the', 'World', '(', 'Little', 'Histories', ')'], ['Hour', 'Game', '(', 'King', '&', 'Maxwell', ')'], ['Faith', 'is', 'a', 'Verb'], ['Furry', 'Logic', ':', 'A', 'Guide', 'to', 'Life', \"'s\", 'Little', 'Challenges'], ['Acts', 'of', 'War', ':', 'Behavior', 'of', 'Men', 'in', 'Battle'], ['Temple', 'to', 'the', 'Wind', ':', 'The', 'Story', 'of', 'America', \"'s\", 'Greatest', 'Naval', 'Architect', 'and', 'His', 'Masterpiece', ',', 'Reliance'], ['The', 'Star', 'Wars', 'Poster', 'Book'], ['Photoshop', 'for', 'Nature', 'Photographers', ':', 'A', 'Workshop', 'in', 'a', 'Book'], ['The', 'Basic', 'Works', 'of', 'Aristotle', '(', 'Modern', 'Library', 'Classics', ')'], ['The', 'Pterosaurs', ':', 'From', 'Deep', 'Time'], ['Straight', 'Man', ':', 'A', 'Novel'], ['Lipstick', \"'s\", 'Legacy']]\n"
     ]
    }
   ],
   "source": [
    "\n",
    "# from nltk.tokenize import word_tokenize\n",
    "\n",
    "\n",
    "# tokenized_sents = [word_tokenize(i) for i in list_of_titles]\n",
    "\n",
    "# print(type(tokenized_sents))\n",
    "\n",
    "# print(f'\"Psychology\" appears {counts[\"Psychology\"]} time(s)')\n",
    "\n",
    "\n",
    "# print(tokenized_sents[1:20])\n"
   ]
  },
  {
   "cell_type": "code",
   "execution_count": null,
   "id": "29d16c3a",
   "metadata": {},
   "outputs": [],
   "source": []
  },
  {
   "cell_type": "code",
   "execution_count": 14,
   "id": "5610a449",
   "metadata": {},
   "outputs": [
    {
     "data": {
      "text/html": [
       "<div>\n",
       "<style scoped>\n",
       "    .dataframe tbody tr th:only-of-type {\n",
       "        vertical-align: middle;\n",
       "    }\n",
       "\n",
       "    .dataframe tbody tr th {\n",
       "        vertical-align: top;\n",
       "    }\n",
       "\n",
       "    .dataframe thead th {\n",
       "        text-align: right;\n",
       "    }\n",
       "</style>\n",
       "<table border=\"1\" class=\"dataframe\">\n",
       "  <thead>\n",
       "    <tr style=\"text-align: right;\">\n",
       "      <th></th>\n",
       "      <th>product_id</th>\n",
       "      <th>product_parent</th>\n",
       "      <th>product_title</th>\n",
       "      <th>review_body</th>\n",
       "      <th>star_rating</th>\n",
       "    </tr>\n",
       "  </thead>\n",
       "  <tbody>\n",
       "    <tr>\n",
       "      <th>1</th>\n",
       "      <td>0385730586</td>\n",
       "      <td>122662979</td>\n",
       "      <td>Sisterhood of the Traveling Pants (Book 1)</td>\n",
       "      <td>this boook was a great one that you could lear...</td>\n",
       "      <td>4</td>\n",
       "    </tr>\n",
       "    <tr>\n",
       "      <th>2</th>\n",
       "      <td>0811828964</td>\n",
       "      <td>56191234</td>\n",
       "      <td>The Bad Girl's Guide to Getting What You Want</td>\n",
       "      <td>If you are looking for something to stimulate ...</td>\n",
       "      <td>3</td>\n",
       "    </tr>\n",
       "    <tr>\n",
       "      <th>3</th>\n",
       "      <td>1844161560</td>\n",
       "      <td>253182049</td>\n",
       "      <td>Eisenhorn (A Warhammer 40,000 Omnibus)</td>\n",
       "      <td>never read it-a young relative idicated he lik...</td>\n",
       "      <td>4</td>\n",
       "    </tr>\n",
       "    <tr>\n",
       "      <th>4</th>\n",
       "      <td>0373836635</td>\n",
       "      <td>348672532</td>\n",
       "      <td>Colby Conspiracy (Colby Agency)</td>\n",
       "      <td>Though she is honored to be Chicago Woman of t...</td>\n",
       "      <td>5</td>\n",
       "    </tr>\n",
       "    <tr>\n",
       "      <th>5</th>\n",
       "      <td>0262181533</td>\n",
       "      <td>598678717</td>\n",
       "      <td>The Psychology of Proof: Deductive Reasoning i...</td>\n",
       "      <td>Review based on a cursory examination by Unive...</td>\n",
       "      <td>4</td>\n",
       "    </tr>\n",
       "    <tr>\n",
       "      <th>...</th>\n",
       "      <td>...</td>\n",
       "      <td>...</td>\n",
       "      <td>...</td>\n",
       "      <td>...</td>\n",
       "      <td>...</td>\n",
       "    </tr>\n",
       "    <tr>\n",
       "      <th>3105366</th>\n",
       "      <td>0471114251</td>\n",
       "      <td>574261099</td>\n",
       "      <td>Bitter Winds: A Memoir of My Years in China's ...</td>\n",
       "      <td>&amp;quot;Bitter Winds&amp;quot; is at once fascinatin...</td>\n",
       "      <td>4</td>\n",
       "    </tr>\n",
       "    <tr>\n",
       "      <th>3105367</th>\n",
       "      <td>089145537X</td>\n",
       "      <td>836948045</td>\n",
       "      <td>The Collector's Guide to Harker Pottery U.S.A....</td>\n",
       "      <td>OK, I'm biased. My mother wrote this one. Many...</td>\n",
       "      <td>5</td>\n",
       "    </tr>\n",
       "    <tr>\n",
       "      <th>3105368</th>\n",
       "      <td>047194128X</td>\n",
       "      <td>377091465</td>\n",
       "      <td>Object-Oriented Type Systems</td>\n",
       "      <td>The best (and possibly only) book I've seen on...</td>\n",
       "      <td>4</td>\n",
       "    </tr>\n",
       "    <tr>\n",
       "      <th>3105369</th>\n",
       "      <td>0521314925</td>\n",
       "      <td>980601331</td>\n",
       "      <td>Invention and Evolution:Design in Nature and E...</td>\n",
       "      <td>This is a beautiful book.  French talks about ...</td>\n",
       "      <td>5</td>\n",
       "    </tr>\n",
       "    <tr>\n",
       "      <th>3105370</th>\n",
       "      <td>0870210092</td>\n",
       "      <td>442607382</td>\n",
       "      <td>Arming and Fitting of English Ships of War, 16...</td>\n",
       "      <td>Nice diags, lucid explanations of rigging, gun...</td>\n",
       "      <td>4</td>\n",
       "    </tr>\n",
       "  </tbody>\n",
       "</table>\n",
       "<p>3105370 rows × 5 columns</p>\n",
       "</div>"
      ],
      "text/plain": [
       "         product_id product_parent  \\\n",
       "1        0385730586      122662979   \n",
       "2        0811828964       56191234   \n",
       "3        1844161560      253182049   \n",
       "4        0373836635      348672532   \n",
       "5        0262181533      598678717   \n",
       "...             ...            ...   \n",
       "3105366  0471114251      574261099   \n",
       "3105367  089145537X      836948045   \n",
       "3105368  047194128X      377091465   \n",
       "3105369  0521314925      980601331   \n",
       "3105370  0870210092      442607382   \n",
       "\n",
       "                                             product_title  \\\n",
       "1               Sisterhood of the Traveling Pants (Book 1)   \n",
       "2            The Bad Girl's Guide to Getting What You Want   \n",
       "3                   Eisenhorn (A Warhammer 40,000 Omnibus)   \n",
       "4                          Colby Conspiracy (Colby Agency)   \n",
       "5        The Psychology of Proof: Deductive Reasoning i...   \n",
       "...                                                    ...   \n",
       "3105366  Bitter Winds: A Memoir of My Years in China's ...   \n",
       "3105367  The Collector's Guide to Harker Pottery U.S.A....   \n",
       "3105368                       Object-Oriented Type Systems   \n",
       "3105369  Invention and Evolution:Design in Nature and E...   \n",
       "3105370  Arming and Fitting of English Ships of War, 16...   \n",
       "\n",
       "                                               review_body star_rating  \n",
       "1        this boook was a great one that you could lear...           4  \n",
       "2        If you are looking for something to stimulate ...           3  \n",
       "3        never read it-a young relative idicated he lik...           4  \n",
       "4        Though she is honored to be Chicago Woman of t...           5  \n",
       "5        Review based on a cursory examination by Unive...           4  \n",
       "...                                                    ...         ...  \n",
       "3105366  &quot;Bitter Winds&quot; is at once fascinatin...           4  \n",
       "3105367  OK, I'm biased. My mother wrote this one. Many...           5  \n",
       "3105368  The best (and possibly only) book I've seen on...           4  \n",
       "3105369  This is a beautiful book.  French talks about ...           5  \n",
       "3105370  Nice diags, lucid explanations of rigging, gun...           4  \n",
       "\n",
       "[3105370 rows x 5 columns]"
      ]
     },
     "execution_count": 14,
     "metadata": {},
     "output_type": "execute_result"
    }
   ],
   "source": [
    "mydata = data[['product_id', 'product_parent', 'product_title', 'review_body', 'star_rating']]\n",
    "mydata.shape\n",
    "mydata\n",
    "\n"
   ]
  },
  {
   "cell_type": "code",
   "execution_count": 15,
   "id": "bd8eff70",
   "metadata": {},
   "outputs": [],
   "source": [
    "import re\n",
    "import string\n",
    "from gensim.parsing.preprocessing import remove_stopwords\n",
    "\n",
    "def clean_text(text):\n",
    "    '''Make text lowercase, remove text in square brackets, remove punctuation and remove words containing numbers.'''\n",
    "    text = text.lower()\n",
    "    text = re.sub('\\[.*?\\]', '', text)\n",
    "    text = re.sub('[%s]' % re.escape(string.punctuation), '', text)\n",
    "    text = re.sub('\\w*\\d\\w*', '', text)\n",
    "    text = re.sub('[‘’“”…]', '', text)\n",
    "    text = re.sub('\\n', '', text)\n",
    "    text = remove_stopwords(text)\n",
    "    return text\n",
    "\n"
   ]
  },
  {
   "cell_type": "code",
   "execution_count": 18,
   "id": "ff8b02af",
   "metadata": {},
   "outputs": [
    {
     "data": {
      "text/html": [
       "<div>\n",
       "<style scoped>\n",
       "    .dataframe tbody tr th:only-of-type {\n",
       "        vertical-align: middle;\n",
       "    }\n",
       "\n",
       "    .dataframe tbody tr th {\n",
       "        vertical-align: top;\n",
       "    }\n",
       "\n",
       "    .dataframe thead th {\n",
       "        text-align: right;\n",
       "    }\n",
       "</style>\n",
       "<table border=\"1\" class=\"dataframe\">\n",
       "  <thead>\n",
       "    <tr style=\"text-align: right;\">\n",
       "      <th></th>\n",
       "      <th>product_id</th>\n",
       "      <th>product_parent</th>\n",
       "      <th>product_title</th>\n",
       "      <th>review_body</th>\n",
       "      <th>star_rating</th>\n",
       "    </tr>\n",
       "  </thead>\n",
       "  <tbody>\n",
       "    <tr>\n",
       "      <th>1</th>\n",
       "      <td>0385730586</td>\n",
       "      <td>122662979</td>\n",
       "      <td>sisterhood traveling pants book</td>\n",
       "      <td>this boook was a great one that you could lear...</td>\n",
       "      <td>4</td>\n",
       "    </tr>\n",
       "    <tr>\n",
       "      <th>2</th>\n",
       "      <td>0811828964</td>\n",
       "      <td>56191234</td>\n",
       "      <td>bad girls guide getting want</td>\n",
       "      <td>If you are looking for something to stimulate ...</td>\n",
       "      <td>3</td>\n",
       "    </tr>\n",
       "    <tr>\n",
       "      <th>3</th>\n",
       "      <td>1844161560</td>\n",
       "      <td>253182049</td>\n",
       "      <td>eisenhorn warhammer omnibus</td>\n",
       "      <td>never read it-a young relative idicated he lik...</td>\n",
       "      <td>4</td>\n",
       "    </tr>\n",
       "    <tr>\n",
       "      <th>4</th>\n",
       "      <td>0373836635</td>\n",
       "      <td>348672532</td>\n",
       "      <td>colby conspiracy colby agency</td>\n",
       "      <td>Though she is honored to be Chicago Woman of t...</td>\n",
       "      <td>5</td>\n",
       "    </tr>\n",
       "    <tr>\n",
       "      <th>5</th>\n",
       "      <td>0262181533</td>\n",
       "      <td>598678717</td>\n",
       "      <td>psychology proof deductive reasoning human thi...</td>\n",
       "      <td>Review based on a cursory examination by Unive...</td>\n",
       "      <td>4</td>\n",
       "    </tr>\n",
       "  </tbody>\n",
       "</table>\n",
       "</div>"
      ],
      "text/plain": [
       "   product_id product_parent  \\\n",
       "1  0385730586      122662979   \n",
       "2  0811828964       56191234   \n",
       "3  1844161560      253182049   \n",
       "4  0373836635      348672532   \n",
       "5  0262181533      598678717   \n",
       "\n",
       "                                       product_title  \\\n",
       "1                    sisterhood traveling pants book   \n",
       "2                       bad girls guide getting want   \n",
       "3                        eisenhorn warhammer omnibus   \n",
       "4                      colby conspiracy colby agency   \n",
       "5  psychology proof deductive reasoning human thi...   \n",
       "\n",
       "                                         review_body star_rating  \n",
       "1  this boook was a great one that you could lear...           4  \n",
       "2  If you are looking for something to stimulate ...           3  \n",
       "3  never read it-a young relative idicated he lik...           4  \n",
       "4  Though she is honored to be Chicago Woman of t...           5  \n",
       "5  Review based on a cursory examination by Unive...           4  "
      ]
     },
     "metadata": {},
     "output_type": "display_data"
    }
   ],
   "source": [
    "# Applying text cleaning lowercasing and removing punctuation to Book Titles.\n",
    "\n",
    "# mydata['product_title'] = mydata['product_title'].apply(clean_text)\n",
    "\n",
    "display(mydata.head())\n",
    "\n",
    "#mydata['product_title'].apply(psy).sum()\n",
    "\n",
    "\n"
   ]
  },
  {
   "cell_type": "code",
   "execution_count": 20,
   "id": "b0f58f5d",
   "metadata": {},
   "outputs": [
    {
     "ename": "AttributeError",
     "evalue": "'dict' object attribute 'values' is read-only",
     "output_type": "error",
     "traceback": [
      "\u001b[1;31m---------------------------------------------------------------------------\u001b[0m",
      "\u001b[1;31mAttributeError\u001b[0m                            Traceback (most recent call last)",
      "\u001b[1;32m~\\AppData\\Local\\Temp/ipykernel_17720/2466688032.py\u001b[0m in \u001b[0;36m<module>\u001b[1;34m\u001b[0m\n\u001b[0;32m      9\u001b[0m     \u001b[1;32mreturn\u001b[0m \u001b[0msozluk3\u001b[0m\u001b[1;33m.\u001b[0m\u001b[0mvalues\u001b[0m\u001b[1;33m\u001b[0m\u001b[1;33m\u001b[0m\u001b[0m\n\u001b[0;32m     10\u001b[0m \u001b[1;33m\u001b[0m\u001b[0m\n\u001b[1;32m---> 11\u001b[1;33m \u001b[0mmydata\u001b[0m\u001b[1;33m[\u001b[0m\u001b[1;34m'product_title'\u001b[0m\u001b[1;33m]\u001b[0m\u001b[1;33m.\u001b[0m\u001b[0mapply\u001b[0m\u001b[1;33m(\u001b[0m\u001b[0mpols\u001b[0m\u001b[1;33m)\u001b[0m\u001b[1;33m.\u001b[0m\u001b[0msum\u001b[0m\u001b[1;33m(\u001b[0m\u001b[1;33m)\u001b[0m\u001b[1;33m\u001b[0m\u001b[1;33m\u001b[0m\u001b[0m\n\u001b[0m\u001b[0;32m     12\u001b[0m \u001b[1;33m\u001b[0m\u001b[0m\n\u001b[0;32m     13\u001b[0m \u001b[0msozluk3\u001b[0m\u001b[1;33m\u001b[0m\u001b[1;33m\u001b[0m\u001b[0m\n",
      "\u001b[1;32mC:\\Anaconda3\\lib\\site-packages\\pandas\\core\\series.py\u001b[0m in \u001b[0;36mapply\u001b[1;34m(self, func, convert_dtype, args, **kwargs)\u001b[0m\n\u001b[0;32m   4355\u001b[0m         \u001b[0mdtype\u001b[0m\u001b[1;33m:\u001b[0m \u001b[0mfloat64\u001b[0m\u001b[1;33m\u001b[0m\u001b[1;33m\u001b[0m\u001b[0m\n\u001b[0;32m   4356\u001b[0m         \"\"\"\n\u001b[1;32m-> 4357\u001b[1;33m         \u001b[1;32mreturn\u001b[0m \u001b[0mSeriesApply\u001b[0m\u001b[1;33m(\u001b[0m\u001b[0mself\u001b[0m\u001b[1;33m,\u001b[0m \u001b[0mfunc\u001b[0m\u001b[1;33m,\u001b[0m \u001b[0mconvert_dtype\u001b[0m\u001b[1;33m,\u001b[0m \u001b[0margs\u001b[0m\u001b[1;33m,\u001b[0m \u001b[0mkwargs\u001b[0m\u001b[1;33m)\u001b[0m\u001b[1;33m.\u001b[0m\u001b[0mapply\u001b[0m\u001b[1;33m(\u001b[0m\u001b[1;33m)\u001b[0m\u001b[1;33m\u001b[0m\u001b[1;33m\u001b[0m\u001b[0m\n\u001b[0m\u001b[0;32m   4358\u001b[0m \u001b[1;33m\u001b[0m\u001b[0m\n\u001b[0;32m   4359\u001b[0m     def _reduce(\n",
      "\u001b[1;32mC:\\Anaconda3\\lib\\site-packages\\pandas\\core\\apply.py\u001b[0m in \u001b[0;36mapply\u001b[1;34m(self)\u001b[0m\n\u001b[0;32m   1041\u001b[0m             \u001b[1;32mreturn\u001b[0m \u001b[0mself\u001b[0m\u001b[1;33m.\u001b[0m\u001b[0mapply_str\u001b[0m\u001b[1;33m(\u001b[0m\u001b[1;33m)\u001b[0m\u001b[1;33m\u001b[0m\u001b[1;33m\u001b[0m\u001b[0m\n\u001b[0;32m   1042\u001b[0m \u001b[1;33m\u001b[0m\u001b[0m\n\u001b[1;32m-> 1043\u001b[1;33m         \u001b[1;32mreturn\u001b[0m \u001b[0mself\u001b[0m\u001b[1;33m.\u001b[0m\u001b[0mapply_standard\u001b[0m\u001b[1;33m(\u001b[0m\u001b[1;33m)\u001b[0m\u001b[1;33m\u001b[0m\u001b[1;33m\u001b[0m\u001b[0m\n\u001b[0m\u001b[0;32m   1044\u001b[0m \u001b[1;33m\u001b[0m\u001b[0m\n\u001b[0;32m   1045\u001b[0m     \u001b[1;32mdef\u001b[0m \u001b[0magg\u001b[0m\u001b[1;33m(\u001b[0m\u001b[0mself\u001b[0m\u001b[1;33m)\u001b[0m\u001b[1;33m:\u001b[0m\u001b[1;33m\u001b[0m\u001b[1;33m\u001b[0m\u001b[0m\n",
      "\u001b[1;32mC:\\Anaconda3\\lib\\site-packages\\pandas\\core\\apply.py\u001b[0m in \u001b[0;36mapply_standard\u001b[1;34m(self)\u001b[0m\n\u001b[0;32m   1096\u001b[0m                 \u001b[1;31m# List[Union[Callable[..., Any], str]]]]]\"; expected\u001b[0m\u001b[1;33m\u001b[0m\u001b[1;33m\u001b[0m\u001b[0m\n\u001b[0;32m   1097\u001b[0m                 \u001b[1;31m# \"Callable[[Any], Any]\"\u001b[0m\u001b[1;33m\u001b[0m\u001b[1;33m\u001b[0m\u001b[0m\n\u001b[1;32m-> 1098\u001b[1;33m                 mapped = lib.map_infer(\n\u001b[0m\u001b[0;32m   1099\u001b[0m                     \u001b[0mvalues\u001b[0m\u001b[1;33m,\u001b[0m\u001b[1;33m\u001b[0m\u001b[1;33m\u001b[0m\u001b[0m\n\u001b[0;32m   1100\u001b[0m                     \u001b[0mf\u001b[0m\u001b[1;33m,\u001b[0m  \u001b[1;31m# type: ignore[arg-type]\u001b[0m\u001b[1;33m\u001b[0m\u001b[1;33m\u001b[0m\u001b[0m\n",
      "\u001b[1;32mC:\\Anaconda3\\lib\\site-packages\\pandas\\_libs\\lib.pyx\u001b[0m in \u001b[0;36mpandas._libs.lib.map_infer\u001b[1;34m()\u001b[0m\n",
      "\u001b[1;32m~\\AppData\\Local\\Temp/ipykernel_17720/2466688032.py\u001b[0m in \u001b[0;36mpols\u001b[1;34m(title)\u001b[0m\n\u001b[0;32m      6\u001b[0m         \u001b[0msozluk3\u001b[0m\u001b[1;33m.\u001b[0m\u001b[0mvalues\u001b[0m \u001b[1;33m=\u001b[0m \u001b[1;36m1\u001b[0m\u001b[1;33m\u001b[0m\u001b[1;33m\u001b[0m\u001b[0m\n\u001b[0;32m      7\u001b[0m     \u001b[1;32melse\u001b[0m\u001b[1;33m:\u001b[0m\u001b[1;33m\u001b[0m\u001b[1;33m\u001b[0m\u001b[0m\n\u001b[1;32m----> 8\u001b[1;33m         \u001b[0msozluk3\u001b[0m\u001b[1;33m.\u001b[0m\u001b[0mvalues\u001b[0m \u001b[1;33m=\u001b[0m \u001b[1;36m0\u001b[0m\u001b[1;33m\u001b[0m\u001b[1;33m\u001b[0m\u001b[0m\n\u001b[0m\u001b[0;32m      9\u001b[0m     \u001b[1;32mreturn\u001b[0m \u001b[0msozluk3\u001b[0m\u001b[1;33m.\u001b[0m\u001b[0mvalues\u001b[0m\u001b[1;33m\u001b[0m\u001b[1;33m\u001b[0m\u001b[0m\n\u001b[0;32m     10\u001b[0m \u001b[1;33m\u001b[0m\u001b[0m\n",
      "\u001b[1;31mAttributeError\u001b[0m: 'dict' object attribute 'values' is read-only"
     ]
    }
   ],
   "source": [
    "sozluk3 = {'Politics': 0}\n",
    "\n",
    "\n",
    "def pols(title):\n",
    "    if title in sozluk3.keys():\n",
    "        sozluk3.values = 1\n",
    "    else:\n",
    "        sozluk3.values = 0\n",
    "    return sozluk3.values\n",
    "\n",
    "mydata['product_title'].apply(pols).sum()\n",
    "\n",
    "sozluk3"
   ]
  },
  {
   "cell_type": "code",
   "execution_count": 21,
   "id": "37bf6d5a",
   "metadata": {},
   "outputs": [
    {
     "data": {
      "text/html": [
       "<div>\n",
       "<style scoped>\n",
       "    .dataframe tbody tr th:only-of-type {\n",
       "        vertical-align: middle;\n",
       "    }\n",
       "\n",
       "    .dataframe tbody tr th {\n",
       "        vertical-align: top;\n",
       "    }\n",
       "\n",
       "    .dataframe thead th {\n",
       "        text-align: right;\n",
       "    }\n",
       "</style>\n",
       "<table border=\"1\" class=\"dataframe\">\n",
       "  <thead>\n",
       "    <tr style=\"text-align: right;\">\n",
       "      <th></th>\n",
       "      <th>product_id</th>\n",
       "      <th>product_parent</th>\n",
       "      <th>product_title</th>\n",
       "      <th>review_body</th>\n",
       "      <th>star_rating</th>\n",
       "    </tr>\n",
       "  </thead>\n",
       "  <tbody>\n",
       "    <tr>\n",
       "      <th>1</th>\n",
       "      <td>0385730586</td>\n",
       "      <td>122662979</td>\n",
       "      <td>sisterhood traveling pants book</td>\n",
       "      <td>this boook was a great one that you could lear...</td>\n",
       "      <td>4</td>\n",
       "    </tr>\n",
       "    <tr>\n",
       "      <th>2</th>\n",
       "      <td>0811828964</td>\n",
       "      <td>56191234</td>\n",
       "      <td>bad girls guide getting want</td>\n",
       "      <td>If you are looking for something to stimulate ...</td>\n",
       "      <td>3</td>\n",
       "    </tr>\n",
       "    <tr>\n",
       "      <th>3</th>\n",
       "      <td>1844161560</td>\n",
       "      <td>253182049</td>\n",
       "      <td>eisenhorn warhammer omnibus</td>\n",
       "      <td>never read it-a young relative idicated he lik...</td>\n",
       "      <td>4</td>\n",
       "    </tr>\n",
       "    <tr>\n",
       "      <th>4</th>\n",
       "      <td>0373836635</td>\n",
       "      <td>348672532</td>\n",
       "      <td>colby conspiracy colby agency</td>\n",
       "      <td>Though she is honored to be Chicago Woman of t...</td>\n",
       "      <td>5</td>\n",
       "    </tr>\n",
       "    <tr>\n",
       "      <th>5</th>\n",
       "      <td>0262181533</td>\n",
       "      <td>598678717</td>\n",
       "      <td>psychology proof deductive reasoning human thi...</td>\n",
       "      <td>Review based on a cursory examination by Unive...</td>\n",
       "      <td>4</td>\n",
       "    </tr>\n",
       "  </tbody>\n",
       "</table>\n",
       "</div>"
      ],
      "text/plain": [
       "   product_id product_parent  \\\n",
       "1  0385730586      122662979   \n",
       "2  0811828964       56191234   \n",
       "3  1844161560      253182049   \n",
       "4  0373836635      348672532   \n",
       "5  0262181533      598678717   \n",
       "\n",
       "                                       product_title  \\\n",
       "1                    sisterhood traveling pants book   \n",
       "2                       bad girls guide getting want   \n",
       "3                        eisenhorn warhammer omnibus   \n",
       "4                      colby conspiracy colby agency   \n",
       "5  psychology proof deductive reasoning human thi...   \n",
       "\n",
       "                                         review_body star_rating  \n",
       "1  this boook was a great one that you could lear...           4  \n",
       "2  If you are looking for something to stimulate ...           3  \n",
       "3  never read it-a young relative idicated he lik...           4  \n",
       "4  Though she is honored to be Chicago Woman of t...           5  \n",
       "5  Review based on a cursory examination by Unive...           4  "
      ]
     },
     "execution_count": 21,
     "metadata": {},
     "output_type": "execute_result"
    }
   ],
   "source": [
    "mydata.head()"
   ]
  },
  {
   "cell_type": "code",
   "execution_count": 23,
   "id": "d29aebc3",
   "metadata": {},
   "outputs": [
    {
     "data": {
      "text/plain": [
       "0"
      ]
     },
     "execution_count": 23,
     "metadata": {},
     "output_type": "execute_result"
    }
   ],
   "source": [
    "# Bu sözlükte çalışmıyor.\n",
    "\n",
    "sozluk = {'Psychology' : {'key_word' : ['psychology', 'psychological'], 'count' : 0}}\n",
    "\n",
    "def psy(x):\n",
    "    if x in sozluk.values():\n",
    "        a = 1\n",
    "    else:\n",
    "        a = 0\n",
    "    return a\n",
    "\n",
    "\n",
    "# mydata.head()\n",
    "\n"
   ]
  },
  {
   "cell_type": "code",
   "execution_count": 120,
   "id": "0b92283e",
   "metadata": {},
   "outputs": [
    {
     "data": {
      "text/plain": [
       "'Review based on a cursory examination by University of Phoenix students in Philosophy 251.  <br />We have found the book to be well organized, and detailed. The structure placed the information in an easy to read and presentable manner. <br />The use of strong and sound proofs by experiment and examples supported the overall logic of reasoning in a clear and concise manner. <br />We have found the book to be well thought out and laid out so the reader can learn and follow what is being explained. <br />'"
      ]
     },
     "execution_count": 120,
     "metadata": {},
     "output_type": "execute_result"
    }
   ],
   "source": [
    "# len(pd.unique(mydata['product_id']))\n",
    "\n",
    "\n",
    "# Bu ikisinin ayni cikmasi gerekmez mi??????????\n",
    "# len(pd.unique(mydata['product_title']))\n",
    "# len(pd.unique(data['product_parent']))\n",
    "\n",
    "# def num(x):\n",
    "  #  if x == 122518901:\n",
    "   #     a = 1\n",
    "    # else:\n",
    "      #   a = 0\n",
    "    # return a\n",
    "\n",
    "# mydata['product_parent'].apply(num).sum()\n"
   ]
  },
  {
   "cell_type": "code",
   "execution_count": 214,
   "id": "9dff1f19",
   "metadata": {},
   "outputs": [
    {
     "data": {
      "text/plain": [
       "12979"
      ]
     },
     "execution_count": 214,
     "metadata": {},
     "output_type": "execute_result"
    }
   ],
   "source": [
    "\n",
    "# mydata['product_parent'] = mydata['product_parent'].astype('int')\n",
    "# mydata['star_rating'] = mydata['star_rating'].astype('int') ########## ERROR\n",
    "\n",
    "def psy(x):\n",
    "    if 'psych' in x:\n",
    "        a = 1\n",
    "    else:\n",
    "        a = 0\n",
    "    return a\n",
    "\n",
    "mydata['product_title'].apply(psy).sum()\n"
   ]
  },
  {
   "cell_type": "code",
   "execution_count": 26,
   "id": "802ce4f0",
   "metadata": {},
   "outputs": [
    {
     "name": "stdout",
     "output_type": "stream",
     "text": [
      "698251\n",
      "779714\n"
     ]
    }
   ],
   "source": [
    "# Number of unique values within a pandas column.\n",
    "n = len(pd.unique(mydata['product_parent']))\n",
    "p = len(pd.unique(mydata['product_id']))\n",
    "\n",
    "print(n)\n",
    "print(p)"
   ]
  },
  {
   "cell_type": "code",
   "execution_count": 211,
   "id": "e4e70c09",
   "metadata": {},
   "outputs": [
    {
     "name": "stdout",
     "output_type": "stream",
     "text": [
      "{'Psychology': {'key_word': ['psychology', 'psychological'], 'count': 0}, 'count': 0}\n"
     ]
    }
   ],
   "source": [
    "# Bu niye çalışmadı?\n",
    "dict_psy = {'Psychology' : {'key_word' : ['psychology', 'psychological'], 'count' : 0}}\n",
    "\n",
    "for i in mydata['product_title']:\n",
    "    if i in dict_psy['Psychology']['key_word']:\n",
    "        dict_psy['count'] = 1\n",
    "    else:\n",
    "        dict_psy['count'] = 0\n",
    "\n",
    "print(dict_psy)\n",
    "\n",
    "# Bu da çalışmadı?\n",
    "dict_psych = {'Psychology' : 0}\n",
    "\n",
    "\n",
    "if 'psych' in mydata['product_title']:\n",
    "    dict_psych['Psychology'] += 1\n",
    "else:\n",
    "    dict_psych['Psychology'] = 0\n",
    "        \n",
    "print(dict_psych)\n",
    "    \n",
    "\n"
   ]
  },
  {
   "cell_type": "code",
   "execution_count": 210,
   "id": "86c37234",
   "metadata": {},
   "outputs": [
    {
     "name": "stdout",
     "output_type": "stream",
     "text": [
      "{'Psychology': 0}\n"
     ]
    }
   ],
   "source": [
    "\n"
   ]
  },
  {
   "cell_type": "code",
   "execution_count": null,
   "id": "f0374678",
   "metadata": {},
   "outputs": [],
   "source": [
    "dict_psy = {'Psychology' : {'key_word' : ['psychology', 'psychological'], 'count' : 0}}\n",
    "dict_pols = {'Politics' : {'key_word' : ['politicial science', 'politics'], 'count' : 0}}\n",
    "dict_soc = {'Sociology' : {'key_word' : ['psychology', 'psychological'], 'count' : 0}}\n",
    "dict_anth = {'Anthropology' : {'key_word' : ['psychology', 'psychological'], 'count' : 0}}\n",
    "dict_econ = {'Economy' : {'key_word' : ['psychology', 'psychological'], 'count' : 0}}"
   ]
  },
  {
   "cell_type": "code",
   "execution_count": null,
   "id": "02779f27",
   "metadata": {},
   "outputs": [],
   "source": []
  },
  {
   "cell_type": "code",
   "execution_count": null,
   "id": "d282868b",
   "metadata": {},
   "outputs": [],
   "source": []
  },
  {
   "cell_type": "code",
   "execution_count": 32,
   "id": "85c89fa8",
   "metadata": {},
   "outputs": [
    {
     "name": "stdout",
     "output_type": "stream",
     "text": [
      "No of unique items in the list are: 4020\n"
     ]
    }
   ],
   "source": [
    "# Sözlük olmayınca her bir disiplin için ayrı bir liste. Kitap isimlerini listeye topluyorum.\n",
    "\n",
    "# list_titles = mydata['product_title'].to_list()\n",
    "\n",
    "# print(list_titles[:100])\n",
    "\n",
    "# from collections import Counter\n",
    "\n",
    "# list_psy = [i for i in list_titles if 'psych' in i]\n",
    "\n",
    "psy_items = Counter(list_psy).keys()\n",
    "print(\"No of unique items in the list are:\", len(psy_items))\n",
    "\n"
   ]
  },
  {
   "cell_type": "code",
   "execution_count": 40,
   "id": "f99b9e97",
   "metadata": {},
   "outputs": [
    {
     "name": "stdout",
     "output_type": "stream",
     "text": [
      "No of unique items in the list are: 4978\n"
     ]
    }
   ],
   "source": [
    "# dict_pols = {'Politics' : {'key_word' : ['politicial science', 'politics', 'international relations'], 'count' : 0}}\n",
    "\n",
    "# dict_pols = {'Politics' : ['politicial science', 'politics', 'international relations']}  NOT_working\n",
    "\n",
    "list_pols = [i for i in list_titles if ('politic' in i) or ('international relations' in i)]\n",
    "\n",
    "pols_items = Counter(list_pols).keys()\n",
    "print(\"No of unique items in the list are:\", len(pols_items))\n",
    "\n",
    "# print(list_pols)\n"
   ]
  },
  {
   "cell_type": "code",
   "execution_count": 34,
   "id": "a2a0c73e",
   "metadata": {},
   "outputs": [
    {
     "name": "stdout",
     "output_type": "stream",
     "text": [
      "No of unique items in the list are: 392\n",
      "['mapping social landscape readings sociology', 'sri aurobindo karl marx integral sociology dialectical sociology', 'status signals sociological study market competition', 'way schools work sociological analysis education edition', 'seeing classic contemporary crosscultural readings sociology sixth edition', 'sociology making sense social world', 'sociology edition', 'sociology global perspective infotrac', 'race ethnicity gender class sociology group conflict change sage masters modern social thought', 'sociology introduction', 'sociology', 'la razon populista seccion obras sociologia spanish edition', 'practical skeptic core concepts sociology', 'practical skeptic readings sociology', 'sociological imagination', 'annual editions sociology', 'classical sociological theory', 'sociology community collection readings new sociology library', 'sociology downtoearth approach edition', 'theories society foundations modern sociological theory', 'race ethnicity gender class sociology group conflict change sage masters modern social thought', 'race ethnicity gender class sociology group conflict change sage masters modern social thought', 'symbols selves social reality symbolic interactionist approach social psychology sociology', 'lucullus life international library sociology paperback', 'travels ernest crossing literarysociological divide ethnographic alternatives', 'race ethnicity gender class sociology group conflict change sage masters modern social thought', 'democracia en blanco el movimiento medico en mexico sociología y política spanish edition', 'english world sociolinguistic perspectives', 'sociology marriage family gender love property', 'race ethnicity gender class sociology group conflict change sage masters modern social thought', 'sociology housework', 'ghostly matters haunting sociological imagination', 'central eurasia global politics conflict security development international studies sociology social anthropology v', 'clep introductory sociology clep test preparation', 'method mess social science research international library sociology', 'outlines sociology lester f ward', 'empirical approaches sociology collection classic contemporary readings edition', 'claiming power doctorpatient talk oxford studies sociolinguistics', 'politeness universals language usage studies interactional sociolinguistics', 'seeing classic contemporary crosscultural readings sociology sixth edition', 'montesquieu rousseau forerunners sociology', 'asa guide graduate departments sociology guide graduate departments sociology', 'new directions military sociology', 'earth sociology introductory readings eleventh edition', 'language society introduction sociolinguistics', 'inequality power development issues political sociology', 'qualitative methodology sociology describing social world', 'social construction reality treatise sociology knowledge', 'future christianity historical sociological political theological perspectives new zealand atf', 'second thoughts seeing conventional wisdom sociological eye', 'sociology marriage family gender love property', 'functions social conflict examination concept social conflict use empirical sociological research', 'inequality power development issues political sociology', 'penguin dictionary sociology penguin dictionary', 'economy society outline interpretive sociology volume set', 'know steez ethnographic sociolinguistic study styleshifting black american speech community publication american dialect society', 'aim cognition sociolinguistic philosophy', 'criminology sociological introduction', 'introduction sociology', 'collective memory heritage sociology series', 'techniques teaching sociological concepts', 'sociology brief introduction reel society interactive movie cdrom powerweb', 'sociology brief introduction free esource cdrom free powerweb', 'reproduction mothering psychoanalysis sociology gender updated edition', 'essentials sociology downtoearth approach', 'keeping hands satan evangelical schooling america routledge library editions sociology education', 'race ethnicity gender class sociology group conflict change pine forge press social science library', 'sociology max weber', 'sociology sport', 'language society introduction sociolinguistics', 'race ethnicity gender class sociology group conflict change sage masters modern social thought', 'introduction sociology', 'socialism economic sociological analysis', 'sociology net', 'sacred canopy elements sociological theory religion', 'sociology housework', 'questions sociological perspective', 'language society introduction sociolinguistics', 'development social network analysis study sociology science', 'sacred canopy elements sociological theory religion', 'cultures societies changing world sociology new century series', 'gender roles sociological perspective edition', 'future christianity historical sociological political theological perspectives new zealand atf', 'le temps des tribus le déclin lindividualisme dans les sociétés masse collection sociologies au quotidien french edition', 'questions sociological perspective', 'discovering sociology microcase explorit', 'norbert elias key sociologists', 'sociology mental disorder', 'required reading sociologys influential books', 'clep introductory sociology clep test preparation', 'work alcohol abuse annotated bibliography bibliographies indexes sociology', 'sociology philosophies global theory intellectual change', 'sociology sparkcharts', 'travels ernest crossing literarysociological divide ethnographic alternatives', 'introduction sociology', 'starting twentyfirst century sociological reflections challenges', 'sociology exploring architecture everyday life bundle', 'international tourism identity change sage studies international sociology', 'sociology exploring architecture everyday life bundle', 'development social network analysis study sociology science', 'sociological traditions', 'sociology', 'essentials sociology media edition infotrac', 'la teoría sociológica spanish edition', 'sociology introduction free student study guide online learning center passcard', 'sociolinguistics cambridge textbooks linguistics', 'clep introductory sociology wcd rea best test prep clep exam test preps', 'clep introductory sociology clep test preparation', 'max weber essays sociology', 'clep introductory sociology wcd rea best test prep clep exam test preps', 'inequality power development issues political sociology', 'sociology philosophies global theory intellectual change', 'culture power sociology pierre bourdieu', 'introdução uma ciência pósmoderna biblioteca das ciências homen sociologia espitemologia portuguese edition', 'health disease holy land studies history sociology medicine ancient times present', 'reproduction mothering psychoanalysis sociology gender updated edition', 'modern theological german reader dictionary sociology education', 'modern theological german reader dictionary sociology education', 'dictionnaire des ethnologues et des anthropologues collection cursus série sociologie french edition', 'jews gentiles historical sociology relations', 'principios sociolingüística y sociología del lenguaje ariel lingüística spanish edition', 'worlds work building international sociology work plenum studies work industry', 'deviance symbolic interactionist approach reynolds series sociology', 'leadership administration sociological interpretation', 'queer theory sociology', 'clep introductory sociology clep test preparation', 'colonialism language policy vietnam contributions sociology language nr english vietnamese edition', 'clep introductory sociology clep test preparation', 'sacred canopy elements sociological theory religion', 'crisis sociology need darwin', 'black white reflections white southern sociologist reynolds series sociology', 'sociological theory', 'alvin w gouldner sociologist outlaw marxist', 'movies masculinity modernity ethnography mens filmgoing india contributions sociology', 'social mindscapes invitation cognitive sociology', 'sociological methodology', 'language society introduction sociolinguistics', 'sociological methodology volume', 'economy society outline interpretive sociology volume set', 'sociolegal control homosexuality multination comparison perspectives sexuality', 'introduction sociolinguistics blackwell textbooks linguistics', 'minds marginalized black men making sense mobility opportunity future life chances princeton studies cultural sociology', 'sociology philosophies global theory intellectual change', 'expert witnesses science medicine practice law oxford sociolegal studies', 'economy society outline interpretive sociology volume set', 'masters sociological thought ideas historical social context', 'sociology', 'bibliography sociology texts', 'invitation sociology humanistic perspective', 'social construction reality treatise sociology knowledge', 'sociologys tower babel reconstructing scientific method sociological imagination structural change series', 'race class gender anthology infotrac wadsworth sociology reader series', 'masters sociological thought ideas historical social context', 'main currents sociological thought montesquieu comte marx tocqueville sociologists revolution', 'clep introductory sociology clep test preparation', 'suicide study sociology', 'sociological theory environment classical foundations contemporary insights', 'reproduction mothering psychoanalysis sociology gender updated edition', 'societies change sociology new century series', 'essentials sociology downtoearth approach fifth edition', 'gods global village world′s religions sociological perspective sociology new century series', 'religion india sociology hinduism buddhism', 'ideology utopia introduction sociology knowledge', 'travels adventures serendipity study sociological semantics sociology science', 'theoretical sociology essays old new', 'human societies introduction macrosociology', 'earth sociology introductory readings eleventh edition', 'handbook sociology military handbooks sociology social research', 'sociology core', 'history sociology genocide analyses case studies', 'invitation sociology religion', 'organizational weapon study bolshevik strategy tactics perennial works sociology', 'constructing risk safety technological practice routledge advances sociology', 'sacred canopy elements sociological theory religion', 'architecture markets economic sociology twentyfirstcentury capitalist societies', 'movies masculinity modernity ethnography mens filmgoing india contributions sociology', 'origin values sociology philosophy beliefs', 'earth sociology introductory readings eleventh edition', 'sociology times infotrac essentials', 'questions sociological perspective', 'religion europe end second millenium sociological profile', 'clep introductory sociology clep test preparation', 'social construction reality treatise sociology knowledge', 'suicide study sociology', 'clep introductory sociology clep test preparation', 'clep introductory sociology clep test preparation', 'clep introductory sociology clep test preparation', 'handbook environmental sociology', 'social construction reality treatise sociology knowledge', 'sociological traditions', 'contemporary sociological theory', 'contemporary sociological theory', 'sociology', 'economy society outline interpretive sociology volume set', 'journey software professional sociology software development', 'language use interlingual familes japaneseenglish sociolinguistic study bilingual education bilingualism', 'clep introductory sociology clep test preparation', 'theories information society international library sociology', 'sociology edition', 'iraqi assyrian christians london construction ethnicity mellen studies sociology', 'emile durkheim morality society heritage sociology series', 'sociology downtoearth approach edition', 'social construction reality treatise sociology knowledge', 'principles economic sociology', 'introducing sociology', 'sociology changing world noninfotrac version', 'sociology core', 'homicide sociological explanation', 'homicide sociological explanation', 'penguin dictionary sociology penguin dictionary', 'ideology ideologists explorations interpretative sociology', 'discourse markers studies interactional sociolinguistics', 'restructuring high schools equity excellence works sociology education series', 'gender conversational interaction oxford studies sociolinguistics', 'introduction sociolinguistics blackwell textbooks linguistics', 'food society sociological approach reynolds series socioloy', 'teach sociology', 'homicide sociological explanation', 'clep introductory sociology clep test preparation', 'homicide sociological explanation', 'meaning sociology reader edition', 'sociology edition', 'meaning sociology reader edition', 'pierre bourdieu key sociologists', 'forest trees sociology life practice promise', 'concise oxford dictionary sociology oxford quick reference', 'history sociologcl analys', 'max weber karl marx routledge classics sociology', 'clep introductory sociology clep test preparation', 'clep introductory sociology clep test preparation', 'conservative radicalism sociology conservative party youth structures libertarianism', 'sociology philosophies global theory intellectual change', 'trumpet prophecy sociological study jehovahs witnesses', 'chinese village ils international library sociology volume', 'human societies introduction macrosociology', 'american work values origin development suny series suny series sociology work', 'deviant behaviour interactionist approach prenticehall series sociology', 'revisiting culture school problem series school reform sociology education series', 'revisiting culture school problem series school reform sociology education series', 'clep introductory sociology clep test preparation', 'clep introductory sociology clep test preparation', 'studies european realism sociological survey writings balzac stendhal tolstoy gorky', 'words essays reflexive sociology', 'clep introductory sociology clep test preparation', 'opening doors immigration ethnicity globalization japan east asia history politics sociology culture', 'adorno popular culture international library sociology', 'social construction reality treatise sociology knowledge', 'journey software professional sociology software development', 'race odyssey african americans sociology', 'inventing accuracy historical sociology nuclear missile guidance inside technology', 'nature types sociological theory international library sociology volume', 'revisiting culture school problem series school reform sociology education series', 'sociology environment critical introduction society nature knowledge', 'forest trees sociology life practice promise', 'sociological traditions', 'suicide study sociology', 'attempting alternative society sociological study selected communalrevitalization movement united states communal societies utopian studies book series', 'college career paths forgotten half american sociological association rose series sociology', 'meaning ludwig von mises contributions economics sociology epistemology political philosophy studies austrian economics series', 'inside social life readings sociological psychology microsociology', 'classical horizons origins sociology ancient greece', 'social capital theory research sociology economics', 'turntaking fingerspelling contact signed languages gallaudet sociolinguistics', 'science art global conflict resolution crisis management sociological philosophy ofglobal policies strategies tactics peace', 'invitation environmental sociology sociology new century series', 'foreigners language sociolinguistic perspective language teaching methodology series', 'sociology new century', 'charisma institution building heritage sociology series', 'invitation environmental sociology sociology new century series', 'charisma converts competitors societal sociological factors success early christianity', 'making violence game sociolegal history violence america sport', 'introduction sociology', 'sociology art form', 'gays gay sociological scientific theological analysis', 'sociology short introduction', 'sociology short introduction', 'la logique lhonneur gestion des entreprises et traditions nationales sociologie french edition', 'men ideas sociologists view', 'rise christianity sociologist reconsiders history', 'clep introductory sociology clep test preparation', 'sociological methodology volume', 'architecture markets economic sociology twentyfirstcentury capitalist societies', 'social construction reality treatise sociology knowledge', 'max webers comparativehistorical sociology', 'evolutionary epistemology rationality sociology knowledge', 'race morality good intentions undermine social justice perpetuate inequality clinical sociology research practice', 'juvenile delinquency sociological approach', 'haitian immigrants black america sociological sociolinguistic portrait', 'masters sociological thought ideas historical social context', 'clep introductory sociology clep test preparation', 'clep introductory sociology clep test preparation', 'irish language united states historical sociolinguistic applied linguistic survey', 'rock music culture aesthetics sociology', 'gifted tongues high school debate adolescent culture princeton studies cultural sociology', 'visions sociological tradition', 'death renewal volume sociological studies roman history vol', 'flesh peddlers warm bodies temporary help industry workers rose series american sociological association', 'sociology philosophies global theory intellectual change', 'essentials sociology downtoearth approach interactive companion website access card edition', 'sociology menu invitation study food society', 'protestantcatholicjew essay american religious sociology', 'reproduction mothering psychoanalysis sociology gender', 'clep introductory sociology clep test preparation', 'women men language sociolinguistic account gender differences language studies language linguistics', 'word scalpel history medical sociology', 'essentials sociology downtoearth approach interactive companion website access card edition', 'clep introductory sociology clep test preparation', 'anthony giddens critical assessments critical assessments leading sociologists', 'face face sociological theory interpersonal behavior', 'sanctorum communio theological study sociology church dietrich bonhoeffer works vol', 'anthony giddens critical assessments critical assessments leading sociologists', 'method measurement sociology', 'sociology introduction sixth edition', 'clep introductory sociology clep test preparation', 'talk work interaction institutional settings studies interactional sociolinguistics', 'clep introductory sociology clep test preparation', 'karl marx selected writings sociology social philosophy', 'gifted tongues high school debate adolescent culture princeton studies cultural sociology', 'clep introductory sociology clep test preparation', 'spanishspeaking world practical introduction sociolinguistic issues routledge language society', 'clep introductory sociology clep test preparation', 'clep introductory sociology clep test preparation', 'opening doors immigration ethnicity globalization japan east asia history politics sociology culture', 'sociological imagination', 'invitation sociology', 'social construction reality treatise sociology knowledge', 'leadership administration sociological interpretation', 'clep introductory sociology clep test preparation', 'clep introductory sociology clep test preparation', 'journey software professional sociology software development', 'sociology art form', 'la teoría sociológica spanish edition', 'clep introductory sociology clep test preparation', 'clep introductory sociology clep test preparation', 'big business state historical transitions corporate transformation suny series sociology work organizations', 'masons tricksters cartographers comparative studies sociology scientific indigenous knowledge studies history science technology medicine', 'words essays reflexive sociology', 'justice paradigm koran social justice scientific sociology', 'sociological theory', 'sociolinguistics introduction language society fourth edition', 'sociological tradition pap', 'hebrew bible socioliterary introduction', 'sociology philosophies global theory intellectual change', 'cryonics sociology death bereavement', 'heavy metal cultural sociology', 'clep introductory sociology clep test preparation', 'suicide study sociology', 'clep introductory sociology clep test preparation', 'sociology concepts issues applications', 'earth sociology introductory readings eleventh edition', 'social statistics mcgrawhill series sociology', 'clep introductory sociology clep test preparation', 'sociological quest principles sociology', 'clep introductory sociology clep test preparation', 'reader regulation oxford readings sociolegal studies', 'spaces identity global media electronic landscapes cultural boundaries international library sociology', 'forest trees sociology life practice promise', 'sociology', 'sociology global', 'politeness universals language usage studies interactional sociolinguistics', 'sacred canopy elements sociological theory religion', 'clep introductory sociology clep test preparation', 'clep introductory sociology clep test preparation', 'clep introductory sociology clep test preparation', 'sociology united states global community', 'introduction sociology', 'clep introductory sociology clep test preparation', 'ideology development sociological theory edition', 'charisma history social structure contributions sociology', 'introducing sociolinguistics', 'whats wrong sociology', 'evolutionary epistemology rationality sociology knowledge', 'protestantcatholicjew essay american religious sociology', 'socialism economic sociological analysis', 'sociology times essentials', 'sociological imagination', 'sociology health medicine critical introduction', 'structure sociological theory dorsey series sociology', 'dictionary sociology penguin edition dictionary penguin', 'sociology economic life', 'development social change global perspective sociology new century series', 'emergence sociological theory', 'socialism economic sociological analysis lib works ludwig von mises cl', 'sociology science fiction', 'sociology food nutrition social appetite', 'socialism economic sociological analysis', 'chinese sociologics anthropological account alienation social reproduction london school economics monographs social anthropology', 'sociological imagination', 'sociology short introduction', 'social stratification class race gender sociological perspective', 'sociology active learning student exercises', 'political parties sociological study oligarchial tendencies modern democracy', 'football sociology global game', 'transsexualism society sociology maletofemale transsexuals', 'questions sociological perspective', 'seeking spiritual meaning world vedanta sociological observations', 'sociology edition', 'professional wrestling ritual drama american popular culture mellen studies sociology', 'rethinking architecture reader cultural theory sociolinguistics', 'rethinking architecture reader cultural theory sociolinguistics', 'international handbook environmental sociology elgar original reference', 'language policy european community contributions sociology language', 'neighbor social affinity modern world s u n y series sociology culture', 'clep introductory sociology clep test preparation', 'way schools work sociological analysis education edition', 'rock music culture aesthetics sociology', 'blackwell companion sociology religion wiley blackwell companions religion', 'paranormal beliefs sociological introduction', 'forced choices class community worker ownership suny series sociology work organizations', 'sounds society themes sociology music music society mup', 'sociology introduction', 'introduction sociolinguistics learning language', 'méxico en el umbral del milenio estudios sociologicos spanish edition', 'paranormal beliefs sociological introduction', 'clep introductory sociology clep test preparation', 'learning ask sociolinguistic appraisal role interview social science research studies social cultural foundations language', 'structure schooling readings sociology education', 'collective memory heritage sociology series', 'sociological study freelance classical musician pits', 'clep introductory sociology clep test preparation', 'sociology science fiction io evans studies philosophy criticism literatu', 'wayward puritans study sociology deviance deviance criminology series', 'rethinking architecture reader cultural theory sociolinguistics', 'language society introduction sociolinguistics', 'sociology concepts characteristics', 'ideology development sociological theory edition', 'sociology consumption introduction', 'myth reality protection civil rights law case study untouchability rural india studies sociology social anthropology', 'social significance sport introduction sociology sport', 'teach sociology', 'journey software professional sociology software development', 'juvenile justice century sociolegal commentary american juvenile courts', 'introduction sociolinguistics blackwell textbooks linguistics', 'sociology gender brief introduction', 'variation german critical approach german sociolinguistics', 'deaf children public schools placement context consequences gallaudet sociolinguistics', 'sociological justice', 'understanding language structure interaction variation introduction applied linguistics sociolinguistics nonspecialists michigan teacher training', 'industrializing america understanding contemporary society classical sociological analysis', 'clep introductory sociology clep test preparation', 'development social change global perspective sociology new century series', 'introduction sociolinguistics blackwell textbooks linguistics', 'queerly phrased language gender sexuality oxford studies sociolinguistics', 'sociological paradigms organisational analysis elements sociology corporate life', 'health illness social body critical sociology edition', 'sociology race problem failure perspective', 'gods global village world′s religions sociological perspective sociology new century series', 'practical skeptic readings sociology', 'sociological outlook', 'response disaster fact versus fiction perpetuation sociology disaster', 'socialism economic sociological analysis', 'georg simmel individuality social forms heritage sociology series', 'mapping social landscape readings sociology', 'spanishspeaking world practical introduction sociolinguistic issues routledge language society', 'introduction sociology', 'modern theological german reader dictionary sociology education', 'la teoría sociológica spanish edition', 'sociolinguistics oxford introduction language study series', 'sociology concepts characteristics', 'sociology themes perspectives', 'economics sociology redefining boundaries conversations economists sociologists', 'dictionary sociology penguin edition dictionary penguin', 'journey software professional sociology software development', 'sociology science theoretical empirical investigations', 'sociology science theoretical empirical investigations', 'woman native perspective sociology feminism', 'sociology times essentials interactions sociology cdrom', 'mystery chinas falun gong rise sociological implications east asian institute contemporary china series', 'sociological imagination', 'clep introductory sociology clep test preparation', 'invitation reflexive sociology', 'language society introduction sociolinguistics', 'sociological tradition', 'clep introductory sociology clep test preparation', 'gold coast slum sociological study chicagos near north university chicago sociological series', 'postimperial english contributions sociology language', 'english cultures cultures english reader cross cultural communication contributions sociology language', 'way schools work sociological analysis education edition', 'sociologists economists democracy midway reprint', 'essentials sociology eath approach', 'george herbert mead social psychology selected papers heritage sociology series', 'reproduction mothering psychoanalysis sociology gender updated edition', 'invitation sociology humanistic perspective', 'invitation sociology humanistic perspective', 'deaf children public schools placement context consequences gallaudet sociolinguistics', 'social statistics mcgrawhill series sociology', 'introduction sociology', 'historical sociology', 'main currents sociological thought durkheim pareto weber', 'main currents sociological thought montesquieu comte marx tocqueville sociologists revolution english french edition', 'sociology science theoretical empirical investigations', 'visions sociological tradition', 'la pensee chinoise chinese thought european sociology', 'handwriting wall sociology psychology graffiti contributions sociology hardcover', 'ambiguous empowerment work narratives women school superintendents womens studieseducationsociology', 'sociology church essays reconstruction', 'myth reality protection civil rights law case study untouchability rural india studies sociology social anthropology', 'blackwell companion social theory wiley blackwell companions sociology', 'sociology times infotrac', 'comparative youth culture sociology youth cultures youth subcultures america britain canada', 'spiral capitalism socialism global democracy power social changestudies political sociology', 'spiral capitalism socialism global democracy power social changestudies political sociology', 'sociology education canada critical perspectives', 'sociology islam lectures', 'sociology changing world', 'masters sociological thought ideas historical social context', 'political parties sociological study oligarchical tendencies modern democracy', 'la familia y el cambio politico en espana coleccion ciencias sociales serie sociologia spanish edition', 'sacred canopy elements sociological theory religion', 'sociology brief introduction', 'socialism economic sociological analysis', 'cooperative workplace potentials dilemmas organisational democracy participation american sociological association rose monographs', 'handbook economic sociology', 'understanding classical sociology marx weber durkheim', 'wayward puritans study sociology deviance deviance criminology series', 'heavy metal cultural sociology', 'wayward puritans study sociology deviance deviance criminology series', 'invitation reflexive sociology', 'sociological traditions', 'interrogating incest feminism foucault law sociology law crime', 'economy society outline interpretive sociology volume set', 'degrees control sociology educational expansion occupational credentialism', 'economy society outline interpretive sociology volume set', 'life stories creation coherence oxford studies sociolinguistics', 'socialism economic sociological analysis lib works ludwig von mises cl', 'theories information society international library sociology', 'till death multicultural anthology marriage contemporary studies sociology', 'comprehending cults sociology new religious movements', 'life stories creation coherence oxford studies sociolinguistics', 'earth sociology teachers manual', 'industrializing america understanding contemporary society classical sociological analysis', 'journey software professional sociology software development', 'think twice sociology looks current social issues', 'karl marx selected writings sociology social philosophy', 'bread circuses historical sociology political pluralism', 'reader regulation oxford readings sociolegal studies', 'sociology menu invitation study food society', 'introduction sociolinguistics learning language', 'principles criminology reynolds series sociology', 'woman native perspective sociology feminism', 'muslim spain ad sociological study medieval iberian peninsula texts studies v', 'global inequalities sociology new century series', 'structure schooling readings sociology education', 'breakout crystal palace anarchopsychological critique stirner nietzsche dostoevsky international library sociology', 'till death multicultural anthology marriage contemporary studies sociology', 'modern chinese history sociolinguistics', 'suicide study sociology', 'suicide study sociology', 'paradox social order linking psychology sociology sociological imagination structural change series', 'comprehending cults sociology new religious movements', 'sociology themes perspectives', 'etudes sociologie religieuse studies religious sociology european sociology', 'corporate governance accountability pressures perform international study studies managerial financial accounting vol vol contemporary studies sociology', 'crisis sociology need darwin', 'sociologically examined life pieces conversation', 'sociology ebira tao people nigeria', 'social stratification class race gender sociological perspective social inequality series', 'immigration americas future social science findings policy debate new perspectives sociology', 'talking voices repetition dialogue imagery conversational discourse studies interactional sociolinguistics', 'sociological theory', 'reflexive thesis wrighting sociology scientific knowledge', 'clep introductory sociology clep test preparation', 'modernity critical concepts sociology', 'modernity critical concepts sociology', 'protestantcatholicjew essay american religious sociology', 'environmental sociology social constructionist perspective environment society', 'choices chances sociology everyday life second edition', 'eclipse eternity sociology afterlife', 'sociology religion', 'knowledge pedagogy sociology basil bernstein social policy issues education', 'sociology', 'sociology downtoearth approach', 'stratification maori society century department sociology working papers', 'heavy metal cultural sociology', 'inventing accuracy historical sociology nuclear missile guidance inside technology', 'shadow dionysus contribution sociology orgy', 'invitation sociology humanistic perspective', 'sociology short introduction short introductions', 'max webers comparativehistorical sociology', 'deviance symbolic interactionist approach reynolds series sociology', 'essentials sociology downtoearth approach', 'sociology islam', 'economy society outline interpretive sociology volume set', 'sociology philosophies global theory intellectual change', 'forced choices class community worker ownership s u n y series sociology work organizations', 'max weber essays sociology', 'city scholars topics sociolinguistics european cultures vol', 'way schools work sociological analysis education', 'lets sociology travels internet', 'sociological insight introduction nonobvious sociology', 'blackwell dictionary sociology users guide sociological language blackwell companions social theory', 'work inequality urban china suny series sociology work', 'socialism economic sociological analysis edition', 'sociolinguistics introduction language society edition penguin language linguistics', 'comprehending cults sociology new religious movements', 'rise christianity sociologist reconsiders history', 'invitation sociology humanistic perspective', 'recent ideas divine conflict influences psychological sociological theories conflict trinitarian theology paul tillich distinguished dissertations series', 'closed encounters literary politics public culture contributions sociology', 'sociology soul', 'iraqi assyrian christians london construction ethnicity mellen studies sociology', 'sociology philosophies global theory intellectual change', 'clep introductory sociology clep test preparation', 'sects society sociological study religious groups britain', 'graduate record examination gre sociology gre test', 'corporate governance accountability pressures perform international study studies managerial financial accounting vol vol contemporary studies sociology', 'crisis sociology need darwin', 'sociology religion', 'russian transformation political sociological psychological aspects', 'journey software professional sociology software development', 'corporate governance accountability pressures perform international study studies managerial financial accounting vol vol contemporary studies sociology', 'road total freedom sociological analysis scientology', 'sociology soul', 'hobos homelessness heritage sociology series', 'sociology soul', 'rise christianity sociologist reconsiders history', 'practical skeptic core concepts sociology', 'classic contemporary readings sociology', 'sacred canopy elements sociological theory religion', 'journey software professional sociology software development', 'nude beach sociological observations', 'max weber skeleton key masters sociological theory', 'adolescents music loud youre old new directions sociology', 'child maltreatment emerging perspectives reynolds series sociology', 'social structures network approach contemporary studies sociology v', 'journey software professional sociology software development', 'ghostly matters haunting sociological imagination', 'social stratification class race gender sociological perspective social inequality series', 'socialism economic sociological analysis', 'sociology health illness critical perspectives', 'earth sociology edition', 'res soc org research sociology organizations', 'negotiating language constructing race contributions sociology language', 'postmodern social analysis criticism contributions sociology', 'crisis change basic questions marxist sociology', 'sociology women intersection patriarchy capitalism colonization edition', 'schoolteacher sociological study', 'social construction reality treatise sociology knowledge', 'socialism economic sociological analysis edition', 'rise christianity sociologist reconsiders history', 'sociological tradition', 'culture power sociology pierre bourdieu', 'clep introductory sociology clep test preparation', 'sociology postcolonial societies economic disparity cultural diversity development', 'transsexualism society sociology maletofemale transsexuals', 'invitation sociology humanistic perspective', 'development social change global perspective sociology new century', 'journey software professional sociology software development', 'social construction reality treatise sociology knowledge', 'endless horizons history philosophy sociology science', 'transsexualism society sociology maletofemale transsexuals']\n"
     ]
    }
   ],
   "source": [
    "list_soc = [i for i in list_titles if 'sociol' in i]\n",
    "\n",
    "soc_items = Counter(list_soc).keys()\n",
    "print(\"No of unique items in the list are:\", len(soc_items))\n",
    "\n",
    "print(list_soc)\n",
    "\n"
   ]
  },
  {
   "cell_type": "code",
   "execution_count": 41,
   "id": "ddb13604",
   "metadata": {},
   "outputs": [
    {
     "name": "stdout",
     "output_type": "stream",
     "text": [
      "No of unique items in the list are: 3188\n"
     ]
    }
   ],
   "source": [
    "list_econ = [i for i in list_titles if 'econo' in i]\n",
    "\n",
    "econ_items = Counter(list_econ).keys()\n",
    "print(\"No of unique items in the list are:\", len(econ_items))\n",
    "\n",
    "# print(list_econ)\n",
    "\n"
   ]
  },
  {
   "cell_type": "code",
   "execution_count": 42,
   "id": "401a0ef1",
   "metadata": {},
   "outputs": [
    {
     "name": "stdout",
     "output_type": "stream",
     "text": [
      "No of unique items in the list are: 584\n"
     ]
    }
   ],
   "source": [
    "list_anth = [i for i in list_titles if 'anthropo' in i]\n",
    "\n",
    "anth_items = Counter(list_anth).keys()\n",
    "print(\"No of unique items in the list are:\", len(anth_items))\n",
    "\n",
    "# print(list_anth)"
   ]
  }
 ],
 "metadata": {
  "kernelspec": {
   "display_name": "Python 3 (ipykernel)",
   "language": "python",
   "name": "python3"
  },
  "language_info": {
   "codemirror_mode": {
    "name": "ipython",
    "version": 3
   },
   "file_extension": ".py",
   "mimetype": "text/x-python",
   "name": "python",
   "nbconvert_exporter": "python",
   "pygments_lexer": "ipython3",
   "version": "3.9.7"
  }
 },
 "nbformat": 4,
 "nbformat_minor": 5
}
