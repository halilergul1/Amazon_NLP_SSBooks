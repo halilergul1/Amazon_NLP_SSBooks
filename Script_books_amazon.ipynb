{
 "cells": [
  {
   "cell_type": "code",
   "execution_count": 1,
   "id": "35d505f7",
   "metadata": {},
   "outputs": [
    {
     "name": "stdout",
     "output_type": "stream",
     "text": [
      "Current working directory: C:\\Users\\ibrah\\Desktop\\Koç Uni\\2. Spring Dönemi, Dersler\\CSSM 530\\python\n",
      "os.getcwd() returns an object of type: <class 'str'>\n"
     ]
    }
   ],
   "source": [
    "# Import the os module\n",
    "import os\n",
    "\n",
    "# Get the current working directory\n",
    "cwd = os.getcwd()\n",
    "\n",
    "# Print the current working directory\n",
    "print(\"Current working directory: {0}\".format(cwd))\n",
    "\n",
    "# Print the type of the returned object\n",
    "print(\"os.getcwd() returns an object of type: {0}\".format(type(cwd)))\n"
   ]
  },
  {
   "cell_type": "code",
   "execution_count": 2,
   "id": "e964c4b4",
   "metadata": {},
   "outputs": [
    {
     "data": {
      "text/plain": [
       "'C:\\\\Users\\\\ibrah\\\\Desktop\\\\Koç Uni\\\\2. Spring Dönemi, Dersler\\\\CSSM 530\\\\python'"
      ]
     },
     "execution_count": 2,
     "metadata": {},
     "output_type": "execute_result"
    }
   ],
   "source": [
    "os.getcwd()"
   ]
  },
  {
   "cell_type": "code",
   "execution_count": 2,
   "id": "1e27f32c",
   "metadata": {},
   "outputs": [
    {
     "name": "stderr",
     "output_type": "stream",
     "text": [
      "C:\\Anaconda3\\lib\\site-packages\\IPython\\core\\interactiveshell.py:3444: DtypeWarning: Columns (1,4,7,8,9) have mixed types.Specify dtype option on import or set low_memory=False.\n",
      "  exec(code_obj, self.user_global_ns, self.user_ns)\n"
     ]
    },
    {
     "name": "stdout",
     "output_type": "stream",
     "text": [
      "            0            1               2           3               4   \\\n",
      "0  marketplace  customer_id       review_id  product_id  product_parent   \n",
      "1           US     12076615   RQ58W7SMO911M  0385730586       122662979   \n",
      "2           US     12703090    RF6IUKMGL8SF  0811828964        56191234   \n",
      "3           US     12257412  R1DOSHH6AI622S  1844161560       253182049   \n",
      "4           US     50732546   RATOTLA3OF70O  0373836635       348672532   \n",
      "\n",
      "                                              5                 6   \\\n",
      "0                                  product_title  product_category   \n",
      "1     Sisterhood of the Traveling Pants (Book 1)             Books   \n",
      "2  The Bad Girl's Guide to Getting What You Want             Books   \n",
      "3         Eisenhorn (A Warhammer 40,000 Omnibus)             Books   \n",
      "4                Colby Conspiracy (Colby Agency)             Books   \n",
      "\n",
      "            7              8            9     10                 11  \\\n",
      "0  star_rating  helpful_votes  total_votes  vine  verified_purchase   \n",
      "1            4              2            3     N                  N   \n",
      "2            3              5            5     N                  N   \n",
      "3            4              1           22     N                  N   \n",
      "4            5              2            2     N                  N   \n",
      "\n",
      "                                      12  \\\n",
      "0                        review_headline   \n",
      "1  this book was a great learning novel!   \n",
      "2                              Fun Fluff   \n",
      "3                    this isn't a review   \n",
      "4              fine author on her A-game   \n",
      "\n",
      "                                                  13           14  \n",
      "0                                        review_body  review_date  \n",
      "1  this boook was a great one that you could lear...   2005-10-14  \n",
      "2  If you are looking for something to stimulate ...   2005-10-14  \n",
      "3  never read it-a young relative idicated he lik...   2005-10-14  \n",
      "4  Though she is honored to be Chicago Woman of t...   2005-10-14  \n"
     ]
    }
   ],
   "source": [
    "import pandas as pd\n",
    "import numpy as np\n",
    "from collections import Counter\n",
    "\n",
    "\n",
    "df = pd.read_csv('amazon_reviews_us_Books_v1_02.tsv', sep='\\t', header=None, on_bad_lines='skip')\n",
    "\n",
    "print(df.head())\n"
   ]
  },
  {
   "cell_type": "code",
   "execution_count": null,
   "id": "d69a7457",
   "metadata": {},
   "outputs": [],
   "source": []
  },
  {
   "cell_type": "code",
   "execution_count": 91,
   "id": "ad12977c",
   "metadata": {},
   "outputs": [
    {
     "name": "stdout",
     "output_type": "stream",
     "text": [
      "<class 'pandas.core.frame.DataFrame'>\n",
      "RangeIndex: 3105371 entries, 0 to 3105370\n",
      "Data columns (total 15 columns):\n",
      " #   Column             Dtype \n",
      "---  ------             ----- \n",
      " 0   marketplace        object\n",
      " 1   customer_id        object\n",
      " 2   review_id          object\n",
      " 3   product_id         object\n",
      " 4   product_parent     object\n",
      " 5   product_title      object\n",
      " 6   product_category   object\n",
      " 7   star_rating        object\n",
      " 8   helpful_votes      object\n",
      " 9   total_votes        object\n",
      " 10  vine               object\n",
      " 11  verified_purchase  object\n",
      " 12  review_headline    object\n",
      " 13  review_body        object\n",
      " 14  review_date        object\n",
      "dtypes: object(15)\n",
      "memory usage: 355.4+ MB\n"
     ]
    }
   ],
   "source": [
    "df.shape\n",
    "df.info()"
   ]
  },
  {
   "cell_type": "code",
   "execution_count": 5,
   "id": "d5e9a8b4",
   "metadata": {},
   "outputs": [
    {
     "data": {
      "text/plain": [
       "199"
      ]
     },
     "execution_count": 5,
     "metadata": {},
     "output_type": "execute_result"
    }
   ],
   "source": [
    "import numpy as np\n",
    "\n",
    "df.isnull().sum().sum()"
   ]
  },
  {
   "cell_type": "code",
   "execution_count": 3,
   "id": "261532bb",
   "metadata": {},
   "outputs": [
    {
     "name": "stdout",
     "output_type": "stream",
     "text": [
      "   marketplace  customer_id       review_id  product_id  product_parent  \\\n",
      "0  marketplace  customer_id       review_id  product_id  product_parent   \n",
      "1           US     12076615   RQ58W7SMO911M  0385730586       122662979   \n",
      "2           US     12703090    RF6IUKMGL8SF  0811828964        56191234   \n",
      "3           US     12257412  R1DOSHH6AI622S  1844161560       253182049   \n",
      "4           US     50732546   RATOTLA3OF70O  0373836635       348672532   \n",
      "\n",
      "                                   product_title  product_category  \\\n",
      "0                                  product_title  product_category   \n",
      "1     Sisterhood of the Traveling Pants (Book 1)             Books   \n",
      "2  The Bad Girl's Guide to Getting What You Want             Books   \n",
      "3         Eisenhorn (A Warhammer 40,000 Omnibus)             Books   \n",
      "4                Colby Conspiracy (Colby Agency)             Books   \n",
      "\n",
      "   star_rating  helpful_votes  total_votes  vine  verified_purchase  \\\n",
      "0  star_rating  helpful_votes  total_votes  vine  verified_purchase   \n",
      "1            4              2            3     N                  N   \n",
      "2            3              5            5     N                  N   \n",
      "3            4              1           22     N                  N   \n",
      "4            5              2            2     N                  N   \n",
      "\n",
      "                         review_headline  \\\n",
      "0                        review_headline   \n",
      "1  this book was a great learning novel!   \n",
      "2                              Fun Fluff   \n",
      "3                    this isn't a review   \n",
      "4              fine author on her A-game   \n",
      "\n",
      "                                         review_body  review_date  \n",
      "0                                        review_body  review_date  \n",
      "1  this boook was a great one that you could lear...   2005-10-14  \n",
      "2  If you are looking for something to stimulate ...   2005-10-14  \n",
      "3  never read it-a young relative idicated he lik...   2005-10-14  \n",
      "4  Though she is honored to be Chicago Woman of t...   2005-10-14  \n"
     ]
    }
   ],
   "source": [
    "df.columns = ['marketplace', 'customer_id', 'review_id', 'product_id', 'product_parent', 'product_title', 'product_category', 'star_rating', \n",
    "            'helpful_votes', 'total_votes', 'vine', 'verified_purchase', 'review_headline', 'review_body', 'review_date']\n",
    "\n",
    "print(df.head())\n",
    "\n",
    "\n"
   ]
  },
  {
   "cell_type": "code",
   "execution_count": 4,
   "id": "9f01ecf8",
   "metadata": {},
   "outputs": [
    {
     "data": {
      "text/html": [
       "<div>\n",
       "<style scoped>\n",
       "    .dataframe tbody tr th:only-of-type {\n",
       "        vertical-align: middle;\n",
       "    }\n",
       "\n",
       "    .dataframe tbody tr th {\n",
       "        vertical-align: top;\n",
       "    }\n",
       "\n",
       "    .dataframe thead th {\n",
       "        text-align: right;\n",
       "    }\n",
       "</style>\n",
       "<table border=\"1\" class=\"dataframe\">\n",
       "  <thead>\n",
       "    <tr style=\"text-align: right;\">\n",
       "      <th></th>\n",
       "      <th>marketplace</th>\n",
       "      <th>customer_id</th>\n",
       "      <th>review_id</th>\n",
       "      <th>product_id</th>\n",
       "      <th>product_parent</th>\n",
       "      <th>product_title</th>\n",
       "      <th>product_category</th>\n",
       "      <th>star_rating</th>\n",
       "      <th>helpful_votes</th>\n",
       "      <th>total_votes</th>\n",
       "      <th>vine</th>\n",
       "      <th>verified_purchase</th>\n",
       "      <th>review_headline</th>\n",
       "      <th>review_body</th>\n",
       "      <th>review_date</th>\n",
       "    </tr>\n",
       "  </thead>\n",
       "  <tbody>\n",
       "    <tr>\n",
       "      <th>1</th>\n",
       "      <td>US</td>\n",
       "      <td>12076615</td>\n",
       "      <td>RQ58W7SMO911M</td>\n",
       "      <td>0385730586</td>\n",
       "      <td>122662979</td>\n",
       "      <td>Sisterhood of the Traveling Pants (Book 1)</td>\n",
       "      <td>Books</td>\n",
       "      <td>4</td>\n",
       "      <td>2</td>\n",
       "      <td>3</td>\n",
       "      <td>N</td>\n",
       "      <td>N</td>\n",
       "      <td>this book was a great learning novel!</td>\n",
       "      <td>this boook was a great one that you could lear...</td>\n",
       "      <td>2005-10-14</td>\n",
       "    </tr>\n",
       "    <tr>\n",
       "      <th>2</th>\n",
       "      <td>US</td>\n",
       "      <td>12703090</td>\n",
       "      <td>RF6IUKMGL8SF</td>\n",
       "      <td>0811828964</td>\n",
       "      <td>56191234</td>\n",
       "      <td>The Bad Girl's Guide to Getting What You Want</td>\n",
       "      <td>Books</td>\n",
       "      <td>3</td>\n",
       "      <td>5</td>\n",
       "      <td>5</td>\n",
       "      <td>N</td>\n",
       "      <td>N</td>\n",
       "      <td>Fun Fluff</td>\n",
       "      <td>If you are looking for something to stimulate ...</td>\n",
       "      <td>2005-10-14</td>\n",
       "    </tr>\n",
       "    <tr>\n",
       "      <th>3</th>\n",
       "      <td>US</td>\n",
       "      <td>12257412</td>\n",
       "      <td>R1DOSHH6AI622S</td>\n",
       "      <td>1844161560</td>\n",
       "      <td>253182049</td>\n",
       "      <td>Eisenhorn (A Warhammer 40,000 Omnibus)</td>\n",
       "      <td>Books</td>\n",
       "      <td>4</td>\n",
       "      <td>1</td>\n",
       "      <td>22</td>\n",
       "      <td>N</td>\n",
       "      <td>N</td>\n",
       "      <td>this isn't a review</td>\n",
       "      <td>never read it-a young relative idicated he lik...</td>\n",
       "      <td>2005-10-14</td>\n",
       "    </tr>\n",
       "    <tr>\n",
       "      <th>4</th>\n",
       "      <td>US</td>\n",
       "      <td>50732546</td>\n",
       "      <td>RATOTLA3OF70O</td>\n",
       "      <td>0373836635</td>\n",
       "      <td>348672532</td>\n",
       "      <td>Colby Conspiracy (Colby Agency)</td>\n",
       "      <td>Books</td>\n",
       "      <td>5</td>\n",
       "      <td>2</td>\n",
       "      <td>2</td>\n",
       "      <td>N</td>\n",
       "      <td>N</td>\n",
       "      <td>fine author on her A-game</td>\n",
       "      <td>Though she is honored to be Chicago Woman of t...</td>\n",
       "      <td>2005-10-14</td>\n",
       "    </tr>\n",
       "    <tr>\n",
       "      <th>5</th>\n",
       "      <td>US</td>\n",
       "      <td>51964897</td>\n",
       "      <td>R1TNWRKIVHVYOV</td>\n",
       "      <td>0262181533</td>\n",
       "      <td>598678717</td>\n",
       "      <td>The Psychology of Proof: Deductive Reasoning i...</td>\n",
       "      <td>Books</td>\n",
       "      <td>4</td>\n",
       "      <td>0</td>\n",
       "      <td>2</td>\n",
       "      <td>N</td>\n",
       "      <td>N</td>\n",
       "      <td>Execellent cursor examination</td>\n",
       "      <td>Review based on a cursory examination by Unive...</td>\n",
       "      <td>2005-10-14</td>\n",
       "    </tr>\n",
       "  </tbody>\n",
       "</table>\n",
       "</div>"
      ],
      "text/plain": [
       "  marketplace customer_id       review_id  product_id product_parent  \\\n",
       "1          US    12076615   RQ58W7SMO911M  0385730586      122662979   \n",
       "2          US    12703090    RF6IUKMGL8SF  0811828964       56191234   \n",
       "3          US    12257412  R1DOSHH6AI622S  1844161560      253182049   \n",
       "4          US    50732546   RATOTLA3OF70O  0373836635      348672532   \n",
       "5          US    51964897  R1TNWRKIVHVYOV  0262181533      598678717   \n",
       "\n",
       "                                       product_title product_category  \\\n",
       "1         Sisterhood of the Traveling Pants (Book 1)            Books   \n",
       "2      The Bad Girl's Guide to Getting What You Want            Books   \n",
       "3             Eisenhorn (A Warhammer 40,000 Omnibus)            Books   \n",
       "4                    Colby Conspiracy (Colby Agency)            Books   \n",
       "5  The Psychology of Proof: Deductive Reasoning i...            Books   \n",
       "\n",
       "  star_rating helpful_votes total_votes vine verified_purchase  \\\n",
       "1           4             2           3    N                 N   \n",
       "2           3             5           5    N                 N   \n",
       "3           4             1          22    N                 N   \n",
       "4           5             2           2    N                 N   \n",
       "5           4             0           2    N                 N   \n",
       "\n",
       "                         review_headline  \\\n",
       "1  this book was a great learning novel!   \n",
       "2                              Fun Fluff   \n",
       "3                    this isn't a review   \n",
       "4              fine author on her A-game   \n",
       "5          Execellent cursor examination   \n",
       "\n",
       "                                         review_body review_date  \n",
       "1  this boook was a great one that you could lear...  2005-10-14  \n",
       "2  If you are looking for something to stimulate ...  2005-10-14  \n",
       "3  never read it-a young relative idicated he lik...  2005-10-14  \n",
       "4  Though she is honored to be Chicago Woman of t...  2005-10-14  \n",
       "5  Review based on a cursory examination by Unive...  2005-10-14  "
      ]
     },
     "metadata": {},
     "output_type": "display_data"
    }
   ],
   "source": [
    "\n",
    "data = pd.DataFrame(df)\n",
    "\n",
    "# print(data.head())\n",
    "\n",
    "# type(data)\n",
    "\n",
    "# print(data)\n",
    "\n",
    "data = df.iloc[1:, :]\n",
    "\n",
    "# print(data)\n",
    "\n",
    "from IPython.display import display\n",
    "\n",
    "display(data.head())\n",
    "\n",
    "# df['review_body'].isnull().sum()\n"
   ]
  },
  {
   "cell_type": "code",
   "execution_count": 50,
   "id": "825c7c34",
   "metadata": {},
   "outputs": [],
   "source": [
    "import matplotlib.pyplot as plt"
   ]
  },
  {
   "cell_type": "code",
   "execution_count": 9,
   "id": "9b7489db",
   "metadata": {},
   "outputs": [
    {
     "data": {
      "text/plain": [
       "(array([ 59784., 214333., 323041., 347699., 323746., 283348., 233594.,\n",
       "        189516., 156500., 130523.]),\n",
       " array([   0.,  100.,  200.,  300.,  400.,  500.,  600.,  700.,  800.,\n",
       "         900., 1000.]),\n",
       " <BarContainer object of 10 artists>)"
      ]
     },
     "execution_count": 9,
     "metadata": {},
     "output_type": "execute_result"
    },
    {
     "data": {
      "image/png": "[encoded data removed]",
      "text/plain": [
       "<Figure size 432x288 with 1 Axes>"
      ]
     },
     "metadata": {
      "needs_background": "light"
     },
     "output_type": "display_data"
    }
   ],
   "source": [
    "def len_of_str(x):\n",
    "    if type(x) != float:\n",
    "        leng = len(x)\n",
    "    else:\n",
    "        leng = 0\n",
    "    return leng\n",
    "\n",
    "plt.hist(data['review_body'].apply(len_of_str), range=[0, 1000], facecolor='gray', align='mid')"
   ]
  },
  {
   "cell_type": "code",
   "execution_count": 6,
   "id": "a955a612",
   "metadata": {},
   "outputs": [
    {
     "data": {
      "text/plain": [
       "12983"
      ]
     },
     "execution_count": 6,
     "metadata": {},
     "output_type": "execute_result"
    }
   ],
   "source": [
    "sozluk = {'Psychology' : {'key_word' : ['psychology', 'psychological'], 'count' : 0}}\n",
    "sozluk2 = {'Psychology' : 0}\n",
    "\n",
    "sozluk['Psychology']\n",
    "def psy(x):\n",
    "    if 'psych' in x.lower():\n",
    "        a = 1\n",
    "    else:\n",
    "        a = 0\n",
    "    return a\n",
    "\n",
    "data['product_title'].apply(psy).sum()"
   ]
  },
  {
   "cell_type": "code",
   "execution_count": 7,
   "id": "e6f1f0df",
   "metadata": {},
   "outputs": [
    {
     "data": {
      "text/plain": [
       "455"
      ]
     },
     "execution_count": 7,
     "metadata": {},
     "output_type": "execute_result"
    }
   ],
   "source": [
    "\n",
    "list_of_titles = data['product_title'].to_list()\n",
    "\n",
    "# print('List of Names: ', list_of_titles)\n",
    "\n",
    "list_of_titles\n",
    "\n",
    "\n",
    "from collections import Counter\n",
    "# counts = Counter(list_of_titles)\n",
    "# print(counts)\n",
    "\n",
    "def soc(x):\n",
    "    if 'sociology' in x.lower():\n",
    "        a = 1\n",
    "    else: \n",
    "        a = 0\n",
    "    return a\n",
    "\n",
    "\n",
    "\n",
    "\n",
    "data['product_title'].apply(soc).sum()\n"
   ]
  },
  {
   "cell_type": "code",
   "execution_count": 90,
   "id": "4a3b8abd",
   "metadata": {},
   "outputs": [],
   "source": [
    "\n",
    "# from nltk.tokenize import word_tokenize\n",
    "\n",
    "\n",
    "# tokenized_sents = [word_tokenize(i) for i in list_of_titles]\n",
    "\n",
    "# print(type(tokenized_sents))\n",
    "\n",
    "# print(f'\"Psychology\" appears {counts[\"Psychology\"]} time(s)')\n",
    "\n",
    "\n",
    "# print(tokenized_sents[1:20])\n"
   ]
  },
  {
   "cell_type": "code",
   "execution_count": null,
   "id": "29d16c3a",
   "metadata": {},
   "outputs": [],
   "source": []
  },
  {
   "cell_type": "code",
   "execution_count": 8,
   "id": "5610a449",
   "metadata": {},
   "outputs": [
    {
     "data": {
      "text/html": [
       "<div>\n",
       "<style scoped>\n",
       "    .dataframe tbody tr th:only-of-type {\n",
       "        vertical-align: middle;\n",
       "    }\n",
       "\n",
       "    .dataframe tbody tr th {\n",
       "        vertical-align: top;\n",
       "    }\n",
       "\n",
       "    .dataframe thead th {\n",
       "        text-align: right;\n",
       "    }\n",
       "</style>\n",
       "<table border=\"1\" class=\"dataframe\">\n",
       "  <thead>\n",
       "    <tr style=\"text-align: right;\">\n",
       "      <th></th>\n",
       "      <th>product_id</th>\n",
       "      <th>product_parent</th>\n",
       "      <th>product_title</th>\n",
       "      <th>review_body</th>\n",
       "      <th>star_rating</th>\n",
       "    </tr>\n",
       "  </thead>\n",
       "  <tbody>\n",
       "    <tr>\n",
       "      <th>1</th>\n",
       "      <td>0385730586</td>\n",
       "      <td>122662979</td>\n",
       "      <td>Sisterhood of the Traveling Pants (Book 1)</td>\n",
       "      <td>this boook was a great one that you could lear...</td>\n",
       "      <td>4</td>\n",
       "    </tr>\n",
       "    <tr>\n",
       "      <th>2</th>\n",
       "      <td>0811828964</td>\n",
       "      <td>56191234</td>\n",
       "      <td>The Bad Girl's Guide to Getting What You Want</td>\n",
       "      <td>If you are looking for something to stimulate ...</td>\n",
       "      <td>3</td>\n",
       "    </tr>\n",
       "    <tr>\n",
       "      <th>3</th>\n",
       "      <td>1844161560</td>\n",
       "      <td>253182049</td>\n",
       "      <td>Eisenhorn (A Warhammer 40,000 Omnibus)</td>\n",
       "      <td>never read it-a young relative idicated he lik...</td>\n",
       "      <td>4</td>\n",
       "    </tr>\n",
       "    <tr>\n",
       "      <th>4</th>\n",
       "      <td>0373836635</td>\n",
       "      <td>348672532</td>\n",
       "      <td>Colby Conspiracy (Colby Agency)</td>\n",
       "      <td>Though she is honored to be Chicago Woman of t...</td>\n",
       "      <td>5</td>\n",
       "    </tr>\n",
       "    <tr>\n",
       "      <th>5</th>\n",
       "      <td>0262181533</td>\n",
       "      <td>598678717</td>\n",
       "      <td>The Psychology of Proof: Deductive Reasoning i...</td>\n",
       "      <td>Review based on a cursory examination by Unive...</td>\n",
       "      <td>4</td>\n",
       "    </tr>\n",
       "    <tr>\n",
       "      <th>...</th>\n",
       "      <td>...</td>\n",
       "      <td>...</td>\n",
       "      <td>...</td>\n",
       "      <td>...</td>\n",
       "      <td>...</td>\n",
       "    </tr>\n",
       "    <tr>\n",
       "      <th>3105366</th>\n",
       "      <td>0471114251</td>\n",
       "      <td>574261099</td>\n",
       "      <td>Bitter Winds: A Memoir of My Years in China's ...</td>\n",
       "      <td>&amp;quot;Bitter Winds&amp;quot; is at once fascinatin...</td>\n",
       "      <td>4</td>\n",
       "    </tr>\n",
       "    <tr>\n",
       "      <th>3105367</th>\n",
       "      <td>089145537X</td>\n",
       "      <td>836948045</td>\n",
       "      <td>The Collector's Guide to Harker Pottery U.S.A....</td>\n",
       "      <td>OK, I'm biased. My mother wrote this one. Many...</td>\n",
       "      <td>5</td>\n",
       "    </tr>\n",
       "    <tr>\n",
       "      <th>3105368</th>\n",
       "      <td>047194128X</td>\n",
       "      <td>377091465</td>\n",
       "      <td>Object-Oriented Type Systems</td>\n",
       "      <td>The best (and possibly only) book I've seen on...</td>\n",
       "      <td>4</td>\n",
       "    </tr>\n",
       "    <tr>\n",
       "      <th>3105369</th>\n",
       "      <td>0521314925</td>\n",
       "      <td>980601331</td>\n",
       "      <td>Invention and Evolution:Design in Nature and E...</td>\n",
       "      <td>This is a beautiful book.  French talks about ...</td>\n",
       "      <td>5</td>\n",
       "    </tr>\n",
       "    <tr>\n",
       "      <th>3105370</th>\n",
       "      <td>0870210092</td>\n",
       "      <td>442607382</td>\n",
       "      <td>Arming and Fitting of English Ships of War, 16...</td>\n",
       "      <td>Nice diags, lucid explanations of rigging, gun...</td>\n",
       "      <td>4</td>\n",
       "    </tr>\n",
       "  </tbody>\n",
       "</table>\n",
       "<p>3105370 rows × 5 columns</p>\n",
       "</div>"
      ],
      "text/plain": [
       "         product_id product_parent  \\\n",
       "1        0385730586      122662979   \n",
       "2        0811828964       56191234   \n",
       "3        1844161560      253182049   \n",
       "4        0373836635      348672532   \n",
       "5        0262181533      598678717   \n",
       "...             ...            ...   \n",
       "3105366  0471114251      574261099   \n",
       "3105367  089145537X      836948045   \n",
       "3105368  047194128X      377091465   \n",
       "3105369  0521314925      980601331   \n",
       "3105370  0870210092      442607382   \n",
       "\n",
       "                                             product_title  \\\n",
       "1               Sisterhood of the Traveling Pants (Book 1)   \n",
       "2            The Bad Girl's Guide to Getting What You Want   \n",
       "3                   Eisenhorn (A Warhammer 40,000 Omnibus)   \n",
       "4                          Colby Conspiracy (Colby Agency)   \n",
       "5        The Psychology of Proof: Deductive Reasoning i...   \n",
       "...                                                    ...   \n",
       "3105366  Bitter Winds: A Memoir of My Years in China's ...   \n",
       "3105367  The Collector's Guide to Harker Pottery U.S.A....   \n",
       "3105368                       Object-Oriented Type Systems   \n",
       "3105369  Invention and Evolution:Design in Nature and E...   \n",
       "3105370  Arming and Fitting of English Ships of War, 16...   \n",
       "\n",
       "                                               review_body star_rating  \n",
       "1        this boook was a great one that you could lear...           4  \n",
       "2        If you are looking for something to stimulate ...           3  \n",
       "3        never read it-a young relative idicated he lik...           4  \n",
       "4        Though she is honored to be Chicago Woman of t...           5  \n",
       "5        Review based on a cursory examination by Unive...           4  \n",
       "...                                                    ...         ...  \n",
       "3105366  &quot;Bitter Winds&quot; is at once fascinatin...           4  \n",
       "3105367  OK, I'm biased. My mother wrote this one. Many...           5  \n",
       "3105368  The best (and possibly only) book I've seen on...           4  \n",
       "3105369  This is a beautiful book.  French talks about ...           5  \n",
       "3105370  Nice diags, lucid explanations of rigging, gun...           4  \n",
       "\n",
       "[3105370 rows x 5 columns]"
      ]
     },
     "execution_count": 8,
     "metadata": {},
     "output_type": "execute_result"
    }
   ],
   "source": [
    "mydata = data[['product_id', 'product_parent', 'product_title', 'review_body', 'star_rating']]\n",
    "mydata.shape\n",
    "mydata\n",
    "\n"
   ]
  },
  {
   "cell_type": "code",
   "execution_count": 9,
   "id": "bd8eff70",
   "metadata": {},
   "outputs": [],
   "source": [
    "import re\n",
    "import string\n",
    "from gensim.parsing.preprocessing import remove_stopwords\n",
    "\n",
    "def clean_text(text):\n",
    "    '''Make text lowercase, remove text in square brackets, remove punctuation and remove words containing numbers.'''\n",
    "    text = text.lower()\n",
    "    text = re.sub('\\[.*?\\]', '', text)\n",
    "    text = re.sub('[%s]' % re.escape(string.punctuation), '', text)\n",
    "    text = re.sub('\\w*\\d\\w*', '', text)\n",
    "    text = re.sub('[‘’“”…]', '', text)\n",
    "    text = re.sub('\\n', '', text)\n",
    "    text = remove_stopwords(text)\n",
    "    return text\n",
    "\n"
   ]
  },
  {
   "cell_type": "code",
   "execution_count": 10,
   "id": "ff8b02af",
   "metadata": {},
   "outputs": [
    {
     "name": "stderr",
     "output_type": "stream",
     "text": [
      "C:\\Users\\ibrah\\AppData\\Local\\Temp/ipykernel_18156/1450309328.py:3: SettingWithCopyWarning: \n",
      "A value is trying to be set on a copy of a slice from a DataFrame.\n",
      "Try using .loc[row_indexer,col_indexer] = value instead\n",
      "\n",
      "See the caveats in the documentation: https://pandas.pydata.org/pandas-docs/stable/user_guide/indexing.html#returning-a-view-versus-a-copy\n",
      "  mydata['product_title'] = mydata['product_title'].apply(clean_text)\n"
     ]
    },
    {
     "data": {
      "text/html": [
       "<div>\n",
       "<style scoped>\n",
       "    .dataframe tbody tr th:only-of-type {\n",
       "        vertical-align: middle;\n",
       "    }\n",
       "\n",
       "    .dataframe tbody tr th {\n",
       "        vertical-align: top;\n",
       "    }\n",
       "\n",
       "    .dataframe thead th {\n",
       "        text-align: right;\n",
       "    }\n",
       "</style>\n",
       "<table border=\"1\" class=\"dataframe\">\n",
       "  <thead>\n",
       "    <tr style=\"text-align: right;\">\n",
       "      <th></th>\n",
       "      <th>product_id</th>\n",
       "      <th>product_parent</th>\n",
       "      <th>product_title</th>\n",
       "      <th>review_body</th>\n",
       "      <th>star_rating</th>\n",
       "    </tr>\n",
       "  </thead>\n",
       "  <tbody>\n",
       "    <tr>\n",
       "      <th>1</th>\n",
       "      <td>0385730586</td>\n",
       "      <td>122662979</td>\n",
       "      <td>sisterhood traveling pants book</td>\n",
       "      <td>this boook was a great one that you could lear...</td>\n",
       "      <td>4</td>\n",
       "    </tr>\n",
       "    <tr>\n",
       "      <th>2</th>\n",
       "      <td>0811828964</td>\n",
       "      <td>56191234</td>\n",
       "      <td>bad girls guide getting want</td>\n",
       "      <td>If you are looking for something to stimulate ...</td>\n",
       "      <td>3</td>\n",
       "    </tr>\n",
       "    <tr>\n",
       "      <th>3</th>\n",
       "      <td>1844161560</td>\n",
       "      <td>253182049</td>\n",
       "      <td>eisenhorn warhammer omnibus</td>\n",
       "      <td>never read it-a young relative idicated he lik...</td>\n",
       "      <td>4</td>\n",
       "    </tr>\n",
       "    <tr>\n",
       "      <th>4</th>\n",
       "      <td>0373836635</td>\n",
       "      <td>348672532</td>\n",
       "      <td>colby conspiracy colby agency</td>\n",
       "      <td>Though she is honored to be Chicago Woman of t...</td>\n",
       "      <td>5</td>\n",
       "    </tr>\n",
       "    <tr>\n",
       "      <th>5</th>\n",
       "      <td>0262181533</td>\n",
       "      <td>598678717</td>\n",
       "      <td>psychology proof deductive reasoning human thi...</td>\n",
       "      <td>Review based on a cursory examination by Unive...</td>\n",
       "      <td>4</td>\n",
       "    </tr>\n",
       "  </tbody>\n",
       "</table>\n",
       "</div>"
      ],
      "text/plain": [
       "   product_id product_parent  \\\n",
       "1  0385730586      122662979   \n",
       "2  0811828964       56191234   \n",
       "3  1844161560      253182049   \n",
       "4  0373836635      348672532   \n",
       "5  0262181533      598678717   \n",
       "\n",
       "                                       product_title  \\\n",
       "1                    sisterhood traveling pants book   \n",
       "2                       bad girls guide getting want   \n",
       "3                        eisenhorn warhammer omnibus   \n",
       "4                      colby conspiracy colby agency   \n",
       "5  psychology proof deductive reasoning human thi...   \n",
       "\n",
       "                                         review_body star_rating  \n",
       "1  this boook was a great one that you could lear...           4  \n",
       "2  If you are looking for something to stimulate ...           3  \n",
       "3  never read it-a young relative idicated he lik...           4  \n",
       "4  Though she is honored to be Chicago Woman of t...           5  \n",
       "5  Review based on a cursory examination by Unive...           4  "
      ]
     },
     "metadata": {},
     "output_type": "display_data"
    }
   ],
   "source": [
    "# Applying text cleaning lowercasing and removing punctuation to Book Titles.\n",
    "\n",
    "mydata['product_title'] = mydata['product_title'].apply(clean_text)\n",
    "\n",
    "display(mydata.head())\n",
    "\n",
    "#mydata['product_title'].apply(psy).sum()\n",
    "\n",
    "\n"
   ]
  },
  {
   "cell_type": "code",
   "execution_count": 89,
   "id": "b0f58f5d",
   "metadata": {},
   "outputs": [],
   "source": [
    "sozluk3 = {'Politics': 0}\n",
    "\n",
    "\n",
    "def pols(title):\n",
    "    if title in sozluk3.keys():\n",
    "        sozluk3.values = 1\n",
    "    else:\n",
    "        sozluk3.values = 0\n",
    "    return sozluk3.values\n",
    "\n",
    "# Not working\n"
   ]
  },
  {
   "cell_type": "code",
   "execution_count": 11,
   "id": "37bf6d5a",
   "metadata": {},
   "outputs": [
    {
     "data": {
      "text/html": [
       "<div>\n",
       "<style scoped>\n",
       "    .dataframe tbody tr th:only-of-type {\n",
       "        vertical-align: middle;\n",
       "    }\n",
       "\n",
       "    .dataframe tbody tr th {\n",
       "        vertical-align: top;\n",
       "    }\n",
       "\n",
       "    .dataframe thead th {\n",
       "        text-align: right;\n",
       "    }\n",
       "</style>\n",
       "<table border=\"1\" class=\"dataframe\">\n",
       "  <thead>\n",
       "    <tr style=\"text-align: right;\">\n",
       "      <th></th>\n",
       "      <th>product_id</th>\n",
       "      <th>product_parent</th>\n",
       "      <th>product_title</th>\n",
       "      <th>review_body</th>\n",
       "      <th>star_rating</th>\n",
       "    </tr>\n",
       "  </thead>\n",
       "  <tbody>\n",
       "    <tr>\n",
       "      <th>1</th>\n",
       "      <td>0385730586</td>\n",
       "      <td>122662979</td>\n",
       "      <td>sisterhood traveling pants book</td>\n",
       "      <td>this boook was a great one that you could lear...</td>\n",
       "      <td>4</td>\n",
       "    </tr>\n",
       "    <tr>\n",
       "      <th>2</th>\n",
       "      <td>0811828964</td>\n",
       "      <td>56191234</td>\n",
       "      <td>bad girls guide getting want</td>\n",
       "      <td>If you are looking for something to stimulate ...</td>\n",
       "      <td>3</td>\n",
       "    </tr>\n",
       "    <tr>\n",
       "      <th>3</th>\n",
       "      <td>1844161560</td>\n",
       "      <td>253182049</td>\n",
       "      <td>eisenhorn warhammer omnibus</td>\n",
       "      <td>never read it-a young relative idicated he lik...</td>\n",
       "      <td>4</td>\n",
       "    </tr>\n",
       "    <tr>\n",
       "      <th>4</th>\n",
       "      <td>0373836635</td>\n",
       "      <td>348672532</td>\n",
       "      <td>colby conspiracy colby agency</td>\n",
       "      <td>Though she is honored to be Chicago Woman of t...</td>\n",
       "      <td>5</td>\n",
       "    </tr>\n",
       "    <tr>\n",
       "      <th>5</th>\n",
       "      <td>0262181533</td>\n",
       "      <td>598678717</td>\n",
       "      <td>psychology proof deductive reasoning human thi...</td>\n",
       "      <td>Review based on a cursory examination by Unive...</td>\n",
       "      <td>4</td>\n",
       "    </tr>\n",
       "  </tbody>\n",
       "</table>\n",
       "</div>"
      ],
      "text/plain": [
       "   product_id product_parent  \\\n",
       "1  0385730586      122662979   \n",
       "2  0811828964       56191234   \n",
       "3  1844161560      253182049   \n",
       "4  0373836635      348672532   \n",
       "5  0262181533      598678717   \n",
       "\n",
       "                                       product_title  \\\n",
       "1                    sisterhood traveling pants book   \n",
       "2                       bad girls guide getting want   \n",
       "3                        eisenhorn warhammer omnibus   \n",
       "4                      colby conspiracy colby agency   \n",
       "5  psychology proof deductive reasoning human thi...   \n",
       "\n",
       "                                         review_body star_rating  \n",
       "1  this boook was a great one that you could lear...           4  \n",
       "2  If you are looking for something to stimulate ...           3  \n",
       "3  never read it-a young relative idicated he lik...           4  \n",
       "4  Though she is honored to be Chicago Woman of t...           5  \n",
       "5  Review based on a cursory examination by Unive...           4  "
      ]
     },
     "execution_count": 11,
     "metadata": {},
     "output_type": "execute_result"
    }
   ],
   "source": [
    "mydata.head()"
   ]
  },
  {
   "cell_type": "code",
   "execution_count": 23,
   "id": "d29aebc3",
   "metadata": {},
   "outputs": [
    {
     "data": {
      "text/plain": [
       "0"
      ]
     },
     "execution_count": 23,
     "metadata": {},
     "output_type": "execute_result"
    }
   ],
   "source": [
    "# Bu sözlükte çalışmıyor.\n",
    "\n",
    "sozluk = {'Psychology' : {'key_word' : ['psychology', 'psychological'], 'count' : 0}}\n",
    "\n",
    "def psy(x):\n",
    "    if x in sozluk.values():\n",
    "        a = 1\n",
    "    else:\n",
    "        a = 0\n",
    "    return a\n",
    "\n",
    "\n",
    "# mydata.head()\n",
    "\n"
   ]
  },
  {
   "cell_type": "code",
   "execution_count": 120,
   "id": "0b92283e",
   "metadata": {},
   "outputs": [
    {
     "data": {
      "text/plain": [
       "'Review based on a cursory examination by University of Phoenix students in Philosophy 251.  <br />We have found the book to be well organized, and detailed. The structure placed the information in an easy to read and presentable manner. <br />The use of strong and sound proofs by experiment and examples supported the overall logic of reasoning in a clear and concise manner. <br />We have found the book to be well thought out and laid out so the reader can learn and follow what is being explained. <br />'"
      ]
     },
     "execution_count": 120,
     "metadata": {},
     "output_type": "execute_result"
    }
   ],
   "source": [
    "# len(pd.unique(mydata['product_id']))\n",
    "\n",
    "\n",
    "# Bu ikisinin ayni cikmasi gerekmez mi??????????\n",
    "# len(pd.unique(mydata['product_title']))\n",
    "# len(pd.unique(data['product_parent']))\n",
    "\n",
    "# def num(x):\n",
    "  #  if x == 122518901:\n",
    "   #     a = 1\n",
    "    # else:\n",
    "      #   a = 0\n",
    "    # return a\n",
    "\n",
    "# mydata['product_parent'].apply(num).sum()\n"
   ]
  },
  {
   "cell_type": "code",
   "execution_count": 214,
   "id": "9dff1f19",
   "metadata": {},
   "outputs": [
    {
     "data": {
      "text/plain": [
       "12979"
      ]
     },
     "execution_count": 214,
     "metadata": {},
     "output_type": "execute_result"
    }
   ],
   "source": [
    "\n",
    "# mydata['product_parent'] = mydata['product_parent'].astype('int')\n",
    "# mydata['star_rating'] = mydata['star_rating'].astype('int') ########## ERROR\n",
    "\n",
    "def psy(x):\n",
    "    if 'psych' in x:\n",
    "        a = 1\n",
    "    else:\n",
    "        a = 0\n",
    "    return a\n",
    "\n",
    "mydata['product_title'].apply(psy).sum()\n"
   ]
  },
  {
   "cell_type": "code",
   "execution_count": 26,
   "id": "802ce4f0",
   "metadata": {},
   "outputs": [
    {
     "name": "stdout",
     "output_type": "stream",
     "text": [
      "698251\n",
      "779714\n"
     ]
    }
   ],
   "source": [
    "# Number of unique values within a pandas column.\n",
    "n = len(pd.unique(mydata['product_parent']))\n",
    "p = len(pd.unique(mydata['product_id']))\n",
    "\n",
    "print(n)\n",
    "print(p)"
   ]
  },
  {
   "cell_type": "code",
   "execution_count": 211,
   "id": "e4e70c09",
   "metadata": {},
   "outputs": [
    {
     "name": "stdout",
     "output_type": "stream",
     "text": [
      "{'Psychology': {'key_word': ['psychology', 'psychological'], 'count': 0}, 'count': 0}\n"
     ]
    }
   ],
   "source": [
    "# Bu niye çalışmadı?\n",
    "dict_psy = {'Psychology' : {'key_word' : ['psychology', 'psychological'], 'count' : 0}}\n",
    "\n",
    "for i in mydata['product_title']:\n",
    "    if i in dict_psy['Psychology']['key_word']:\n",
    "        dict_psy['count'] = 1\n",
    "    else:\n",
    "        dict_psy['count'] = 0\n",
    "\n",
    "print(dict_psy)\n",
    "\n",
    "# Bu da çalışmadı?\n",
    "dict_psych = {'Psychology' : 0}\n",
    "\n",
    "\n",
    "if 'psych' in mydata['product_title']:\n",
    "    dict_psych['Psychology'] += 1\n",
    "else:\n",
    "    dict_psych['Psychology'] = 0\n",
    "        \n",
    "print(dict_psych)\n",
    "    \n",
    "\n"
   ]
  },
  {
   "cell_type": "code",
   "execution_count": 210,
   "id": "86c37234",
   "metadata": {},
   "outputs": [
    {
     "name": "stdout",
     "output_type": "stream",
     "text": [
      "{'Psychology': 0}\n"
     ]
    }
   ],
   "source": [
    "\n"
   ]
  },
  {
   "cell_type": "code",
   "execution_count": null,
   "id": "f0374678",
   "metadata": {},
   "outputs": [],
   "source": [
    "dict_psy = {'Psychology' : {'key_word' : ['psychology', 'psychological'], 'count' : 0}}\n",
    "dict_pols = {'Politics' : {'key_word' : ['politicial science', 'politics'], 'count' : 0}}\n",
    "dict_soc = {'Sociology' : {'key_word' : ['psychology', 'psychological'], 'count' : 0}}\n",
    "dict_anth = {'Anthropology' : {'key_word' : ['psychology', 'psychological'], 'count' : 0}}\n",
    "dict_econ = {'Economy' : {'key_word' : ['psychology', 'psychological'], 'count' : 0}}"
   ]
  },
  {
   "cell_type": "code",
   "execution_count": null,
   "id": "02779f27",
   "metadata": {},
   "outputs": [],
   "source": []
  },
  {
   "cell_type": "code",
   "execution_count": null,
   "id": "d282868b",
   "metadata": {},
   "outputs": [],
   "source": []
  },
  {
   "cell_type": "code",
   "execution_count": 12,
   "id": "85c89fa8",
   "metadata": {},
   "outputs": [
    {
     "name": "stdout",
     "output_type": "stream",
     "text": [
      "No of unique items in the list are: 4020\n"
     ]
    }
   ],
   "source": [
    "# Sözlük olmayınca her bir disiplin için ayrı bir liste. Kitap isimlerini listeye topluyorum.\n",
    "\n",
    "list_titles = mydata['product_title'].to_list()\n",
    "\n",
    "# print(list_titles[:100])\n",
    "\n",
    "from collections import Counter\n",
    "\n",
    "list_psy = [i for i in list_titles if 'psych' in i]\n",
    "\n",
    "psy_items = Counter(list_psy).keys()\n",
    "print(\"No of unique items in the list are:\", len(psy_items))\n",
    "\n"
   ]
  },
  {
   "cell_type": "code",
   "execution_count": 13,
   "id": "f99b9e97",
   "metadata": {},
   "outputs": [
    {
     "name": "stdout",
     "output_type": "stream",
     "text": [
      "No of unique items in the list are: 4978\n"
     ]
    }
   ],
   "source": [
    "# dict_pols = {'Politics' : {'key_word' : ['politicial science', 'politics', 'international relations'], 'count' : 0}}\n",
    "\n",
    "# dict_pols = {'Politics' : ['politicial science', 'politics', 'international relations']}  NOT_working\n",
    "\n",
    "list_pols = [i for i in list_titles if ('politic' in i) or ('international relations' in i)]\n",
    "\n",
    "pols_items = Counter(list_pols).keys()\n",
    "print(\"No of unique items in the list are:\", len(pols_items))\n",
    "\n",
    "# print(list_pols)\n"
   ]
  },
  {
   "cell_type": "code",
   "execution_count": 14,
   "id": "a2a0c73e",
   "metadata": {},
   "outputs": [
    {
     "name": "stdout",
     "output_type": "stream",
     "text": [
      "No of unique items in the list are: 392\n"
     ]
    }
   ],
   "source": [
    "list_soc = [i for i in list_titles if 'sociol' in i]\n",
    "\n",
    "soc_items = Counter(list_soc).keys()\n",
    "print(\"No of unique items in the list are:\", len(soc_items))\n",
    "\n",
    "# print(list_soc)\n",
    "\n"
   ]
  },
  {
   "cell_type": "code",
   "execution_count": 15,
   "id": "ddb13604",
   "metadata": {},
   "outputs": [
    {
     "name": "stdout",
     "output_type": "stream",
     "text": [
      "No of unique items in the list are: 3188\n"
     ]
    }
   ],
   "source": [
    "list_econ = [i for i in list_titles if 'econo' in i]\n",
    "\n",
    "econ_items = Counter(list_econ).keys()\n",
    "print(\"No of unique items in the list are:\", len(econ_items))\n",
    "\n",
    "# print(list_econ)\n",
    "\n"
   ]
  },
  {
   "cell_type": "code",
   "execution_count": 16,
   "id": "401a0ef1",
   "metadata": {},
   "outputs": [
    {
     "name": "stdout",
     "output_type": "stream",
     "text": [
      "No of unique items in the list are: 584\n"
     ]
    }
   ],
   "source": [
    "list_anth = [i for i in list_titles if 'anthropo' in i]\n",
    "\n",
    "anth_items = Counter(list_anth).keys()\n",
    "print(\"No of unique items in the list are:\", len(anth_items))\n",
    "\n",
    "# print(list_anth)"
   ]
  },
  {
   "cell_type": "code",
   "execution_count": 85,
   "id": "9c579ae6",
   "metadata": {},
   "outputs": [
    {
     "name": "stdout",
     "output_type": "stream",
     "text": [
      "   product_id product_parent  \\\n",
      "1  0385730586      122662979   \n",
      "2  0811828964       56191234   \n",
      "3  1844161560      253182049   \n",
      "4  0373836635      348672532   \n",
      "5  0262181533      598678717   \n",
      "\n",
      "                                       product_title  \\\n",
      "1                    sisterhood traveling pants book   \n",
      "2                       bad girls guide getting want   \n",
      "3                        eisenhorn warhammer omnibus   \n",
      "4                      colby conspiracy colby agency   \n",
      "5  psychology proof deductive reasoning human thi...   \n",
      "\n",
      "                                         review_body star_rating  discipline  \n",
      "1  this boook was a great one that you could lear...           4       other  \n",
      "2  If you are looking for something to stimulate ...           3       other  \n",
      "3  never read it-a young relative idicated he lik...           4       other  \n",
      "4  Though she is honored to be Chicago Woman of t...           5       other  \n",
      "5  Review based on a cursory examination by Unive...           4  psychology  \n"
     ]
    },
    {
     "name": "stderr",
     "output_type": "stream",
     "text": [
      "C:\\Users\\ibrah\\AppData\\Local\\Temp/ipykernel_18156/1901782079.py:51: SettingWithCopyWarning: \n",
      "A value is trying to be set on a copy of a slice from a DataFrame.\n",
      "Try using .loc[row_indexer,col_indexer] = value instead\n",
      "\n",
      "See the caveats in the documentation: https://pandas.pydata.org/pandas-docs/stable/user_guide/indexing.html#returning-a-view-versus-a-copy\n",
      "  mydata['discipline'] = discipline\n"
     ]
    }
   ],
   "source": [
    "# New COLUMN: Discipline\n",
    "# mydata['discipline'] = ['psychology' if 'psych' in i else \"other\" for i in mydata['product_title']]\n",
    "\n",
    "\n",
    "\n",
    "discipline = []\n",
    "\n",
    "for row in mydata['product_title']:\n",
    "    if 'psych' in row:\n",
    "        discipline.append('psychology')\n",
    "    elif ('sociol' in row) or ('social theory' in row) or ('gender' in row) or ('race' in row) or ('racism' in row) or ('social movement' in row):\n",
    "        discipline.append('sociology')\n",
    "    elif ('politic' in row) or ('international relations' in row) or ('administration' in row):\n",
    "        discipline.append('politics')\n",
    "    elif ('econo' in row) or ('financ' in row):\n",
    "        discipline.append('economy')\n",
    "    elif 'anthropo' in row:\n",
    "        discipline.append('anthropology')\n",
    "    else:\n",
    "        discipline.append('other')\n",
    "\n",
    "        \n",
    "mydata['discipline'] = discipline\n",
    "\n",
    "print(mydata.head())"
   ]
  },
  {
   "cell_type": "code",
   "execution_count": 70,
   "id": "c7abae3b",
   "metadata": {},
   "outputs": [
    {
     "data": {
      "text/html": [
       "<div>\n",
       "<style scoped>\n",
       "    .dataframe tbody tr th:only-of-type {\n",
       "        vertical-align: middle;\n",
       "    }\n",
       "\n",
       "    .dataframe tbody tr th {\n",
       "        vertical-align: top;\n",
       "    }\n",
       "\n",
       "    .dataframe thead th {\n",
       "        text-align: right;\n",
       "    }\n",
       "</style>\n",
       "<table border=\"1\" class=\"dataframe\">\n",
       "  <thead>\n",
       "    <tr style=\"text-align: right;\">\n",
       "      <th></th>\n",
       "      <th>product_id</th>\n",
       "      <th>product_title</th>\n",
       "      <th>review_body</th>\n",
       "      <th>star_rating</th>\n",
       "      <th>discipline</th>\n",
       "    </tr>\n",
       "    <tr>\n",
       "      <th>product_parent</th>\n",
       "      <th></th>\n",
       "      <th></th>\n",
       "      <th></th>\n",
       "      <th></th>\n",
       "      <th></th>\n",
       "    </tr>\n",
       "  </thead>\n",
       "  <tbody>\n",
       "    <tr>\n",
       "      <th>689</th>\n",
       "      <td>7</td>\n",
       "      <td>7</td>\n",
       "      <td>7</td>\n",
       "      <td>7</td>\n",
       "      <td>7</td>\n",
       "    </tr>\n",
       "    <tr>\n",
       "      <th>3474</th>\n",
       "      <td>5</td>\n",
       "      <td>5</td>\n",
       "      <td>5</td>\n",
       "      <td>5</td>\n",
       "      <td>5</td>\n",
       "    </tr>\n",
       "    <tr>\n",
       "      <th>3571</th>\n",
       "      <td>1</td>\n",
       "      <td>1</td>\n",
       "      <td>1</td>\n",
       "      <td>1</td>\n",
       "      <td>1</td>\n",
       "    </tr>\n",
       "    <tr>\n",
       "      <th>6395</th>\n",
       "      <td>1</td>\n",
       "      <td>1</td>\n",
       "      <td>1</td>\n",
       "      <td>1</td>\n",
       "      <td>1</td>\n",
       "    </tr>\n",
       "    <tr>\n",
       "      <th>6430</th>\n",
       "      <td>23</td>\n",
       "      <td>23</td>\n",
       "      <td>23</td>\n",
       "      <td>23</td>\n",
       "      <td>23</td>\n",
       "    </tr>\n",
       "    <tr>\n",
       "      <th>...</th>\n",
       "      <td>...</td>\n",
       "      <td>...</td>\n",
       "      <td>...</td>\n",
       "      <td>...</td>\n",
       "      <td>...</td>\n",
       "    </tr>\n",
       "    <tr>\n",
       "      <th>999971855</th>\n",
       "      <td>1</td>\n",
       "      <td>1</td>\n",
       "      <td>1</td>\n",
       "      <td>1</td>\n",
       "      <td>1</td>\n",
       "    </tr>\n",
       "    <tr>\n",
       "      <th>999974400</th>\n",
       "      <td>1</td>\n",
       "      <td>1</td>\n",
       "      <td>1</td>\n",
       "      <td>1</td>\n",
       "      <td>1</td>\n",
       "    </tr>\n",
       "    <tr>\n",
       "      <th>999991322</th>\n",
       "      <td>1</td>\n",
       "      <td>1</td>\n",
       "      <td>1</td>\n",
       "      <td>1</td>\n",
       "      <td>1</td>\n",
       "    </tr>\n",
       "    <tr>\n",
       "      <th>999993855</th>\n",
       "      <td>1</td>\n",
       "      <td>1</td>\n",
       "      <td>1</td>\n",
       "      <td>1</td>\n",
       "      <td>1</td>\n",
       "    </tr>\n",
       "    <tr>\n",
       "      <th>999993974</th>\n",
       "      <td>1</td>\n",
       "      <td>1</td>\n",
       "      <td>1</td>\n",
       "      <td>1</td>\n",
       "      <td>1</td>\n",
       "    </tr>\n",
       "  </tbody>\n",
       "</table>\n",
       "<p>698251 rows × 5 columns</p>\n",
       "</div>"
      ],
      "text/plain": [
       "                product_id  product_title  review_body  star_rating  \\\n",
       "product_parent                                                        \n",
       "689                      7              7            7            7   \n",
       "3474                     5              5            5            5   \n",
       "3571                     1              1            1            1   \n",
       "6395                     1              1            1            1   \n",
       "6430                    23             23           23           23   \n",
       "...                    ...            ...          ...          ...   \n",
       "999971855                1              1            1            1   \n",
       "999974400                1              1            1            1   \n",
       "999991322                1              1            1            1   \n",
       "999993855                1              1            1            1   \n",
       "999993974                1              1            1            1   \n",
       "\n",
       "                discipline  \n",
       "product_parent              \n",
       "689                      7  \n",
       "3474                     5  \n",
       "3571                     1  \n",
       "6395                     1  \n",
       "6430                    23  \n",
       "...                    ...  \n",
       "999971855                1  \n",
       "999974400                1  \n",
       "999991322                1  \n",
       "999993855                1  \n",
       "999993974                1  \n",
       "\n",
       "[698251 rows x 5 columns]"
      ]
     },
     "execution_count": 70,
     "metadata": {},
     "output_type": "execute_result"
    }
   ],
   "source": [
    "mydata.head()\n",
    "\n",
    "# mydata['discipline'].unique()\n",
    "\n",
    "# mydata['discipline'].value_counts().plot.bar()\n",
    "\n",
    "gk = mydata.groupby('discipline')\n",
    "\n",
    "gk.first()\n",
    "\n",
    "gk.get_group('psychology')\n",
    "\n",
    "mydata.groupby(['product_parent']).count()"
   ]
  },
  {
   "cell_type": "code",
   "execution_count": 81,
   "id": "83be3c6b",
   "metadata": {},
   "outputs": [
    {
     "name": "stdout",
     "output_type": "stream",
     "text": [
      "No.of.unique books : 698251\n"
     ]
    }
   ],
   "source": [
    "n = len(pd.unique(mydata['product_parent']))\n",
    "\n",
    "print(\"No.of.unique books :\", \n",
    "      n)\n"
   ]
  },
  {
   "cell_type": "code",
   "execution_count": 87,
   "id": "61c9f506",
   "metadata": {},
   "outputs": [
    {
     "name": "stdout",
     "output_type": "stream",
     "text": [
      "No.of.unique books : 19071\n"
     ]
    },
    {
     "data": {
      "text/html": [
       "<div>\n",
       "<style scoped>\n",
       "    .dataframe tbody tr th:only-of-type {\n",
       "        vertical-align: middle;\n",
       "    }\n",
       "\n",
       "    .dataframe tbody tr th {\n",
       "        vertical-align: top;\n",
       "    }\n",
       "\n",
       "    .dataframe thead th {\n",
       "        text-align: right;\n",
       "    }\n",
       "</style>\n",
       "<table border=\"1\" class=\"dataframe\">\n",
       "  <thead>\n",
       "    <tr style=\"text-align: right;\">\n",
       "      <th></th>\n",
       "      <th>product_id</th>\n",
       "      <th>product_parent</th>\n",
       "      <th>product_title</th>\n",
       "      <th>review_body</th>\n",
       "      <th>star_rating</th>\n",
       "      <th>discipline</th>\n",
       "    </tr>\n",
       "  </thead>\n",
       "  <tbody>\n",
       "    <tr>\n",
       "      <th>5</th>\n",
       "      <td>0262181533</td>\n",
       "      <td>598678717</td>\n",
       "      <td>psychology proof deductive reasoning human thi...</td>\n",
       "      <td>Review based on a cursory examination by Unive...</td>\n",
       "      <td>4</td>\n",
       "      <td>psychology</td>\n",
       "    </tr>\n",
       "    <tr>\n",
       "      <th>46</th>\n",
       "      <td>1594200459</td>\n",
       "      <td>697870179</td>\n",
       "      <td>end poverty economic possibilities time</td>\n",
       "      <td>ALthough he is correct that the IMF and World ...</td>\n",
       "      <td>3</td>\n",
       "      <td>economy</td>\n",
       "    </tr>\n",
       "    <tr>\n",
       "      <th>86</th>\n",
       "      <td>0742538168</td>\n",
       "      <td>339619920</td>\n",
       "      <td>attack messenger politicians turn media americ...</td>\n",
       "      <td>While I don't always agree with his TV analysi...</td>\n",
       "      <td>2</td>\n",
       "      <td>politics</td>\n",
       "    </tr>\n",
       "    <tr>\n",
       "      <th>138</th>\n",
       "      <td>0262612089</td>\n",
       "      <td>733918058</td>\n",
       "      <td>coming generational storm need know americas e...</td>\n",
       "      <td>Since the 1992 presidential run of H. Ross Per...</td>\n",
       "      <td>4</td>\n",
       "      <td>economy</td>\n",
       "    </tr>\n",
       "    <tr>\n",
       "      <th>205</th>\n",
       "      <td>0521832357</td>\n",
       "      <td>82232603</td>\n",
       "      <td>c design patterns derivatives pricing mathemat...</td>\n",
       "      <td>In terms of programming concepts and OOP desig...</td>\n",
       "      <td>5</td>\n",
       "      <td>economy</td>\n",
       "    </tr>\n",
       "  </tbody>\n",
       "</table>\n",
       "</div>"
      ],
      "text/plain": [
       "     product_id product_parent  \\\n",
       "5    0262181533      598678717   \n",
       "46   1594200459      697870179   \n",
       "86   0742538168      339619920   \n",
       "138  0262612089      733918058   \n",
       "205  0521832357       82232603   \n",
       "\n",
       "                                         product_title  \\\n",
       "5    psychology proof deductive reasoning human thi...   \n",
       "46             end poverty economic possibilities time   \n",
       "86   attack messenger politicians turn media americ...   \n",
       "138  coming generational storm need know americas e...   \n",
       "205  c design patterns derivatives pricing mathemat...   \n",
       "\n",
       "                                           review_body star_rating  discipline  \n",
       "5    Review based on a cursory examination by Unive...           4  psychology  \n",
       "46   ALthough he is correct that the IMF and World ...           3     economy  \n",
       "86   While I don't always agree with his TV analysi...           2    politics  \n",
       "138  Since the 1992 presidential run of H. Ross Per...           4     economy  \n",
       "205  In terms of programming concepts and OOP desig...           5     economy  "
      ]
     },
     "execution_count": 87,
     "metadata": {},
     "output_type": "execute_result"
    },
    {
     "data": {
      "image/png": "[encoded data removed]",
      "text/plain": [
       "<Figure size 432x288 with 1 Axes>"
      ]
     },
     "metadata": {
      "needs_background": "light"
     },
     "output_type": "display_data"
    }
   ],
   "source": [
    "# Creating a New DataFrame\n",
    "\n",
    "dfbooks = mydata[mydata['discipline'] != 'other']\n",
    "\n",
    "dfbooks.head()\n",
    "\n",
    "dfbooks['discipline'].value_counts().plot.bar()\n",
    "\n",
    "n = len(pd.unique(dfbooks['product_parent']))\n",
    "  \n",
    "print(\"No.of.unique books :\", n)\n",
    "\n",
    "dfbooks.head()\n",
    "\n",
    "\n"
   ]
  },
  {
   "cell_type": "code",
   "execution_count": null,
   "id": "e9eda45f",
   "metadata": {},
   "outputs": [],
   "source": [
    "\n"
   ]
  }
 ],
 "metadata": {
  "kernelspec": {
   "display_name": "Python 3 (ipykernel)",
   "language": "python",
   "name": "python3"
  },
  "language_info": {
   "codemirror_mode": {
    "name": "ipython",
    "version": 3
   },
   "file_extension": ".py",
   "mimetype": "text/x-python",
   "name": "python",
   "nbconvert_exporter": "python",
   "pygments_lexer": "ipython3",
   "version": "3.9.7"
  }
 },
 "nbformat": 4,
 "nbformat_minor": 5
}
